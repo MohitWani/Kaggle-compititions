{
 "cells": [
  {
   "cell_type": "code",
   "execution_count": 25,
   "id": "dbc1249e",
   "metadata": {},
   "outputs": [],
   "source": [
    "import pandas as pd\n",
    "import numpy as np\n",
    "import matplotlib.pyplot as plt"
   ]
  },
  {
   "cell_type": "code",
   "execution_count": 26,
   "id": "17081fcf",
   "metadata": {},
   "outputs": [],
   "source": [
    "X_train_data = pd.read_csv('D:\\\\my projects\\\\tabular playground series\\\\train.csv')\n",
    "X_test_data = pd.read_csv('D:\\\\my projects\\\\tabular playground series\\\\test.csv')\n",
    "data = pd.concat([X_train_data, X_test_data], axis = 0)"
   ]
  },
  {
   "cell_type": "code",
   "execution_count": 27,
   "id": "6a3470f5",
   "metadata": {},
   "outputs": [
    {
     "data": {
      "text/html": [
       "<div>\n",
       "<style scoped>\n",
       "    .dataframe tbody tr th:only-of-type {\n",
       "        vertical-align: middle;\n",
       "    }\n",
       "\n",
       "    .dataframe tbody tr th {\n",
       "        vertical-align: top;\n",
       "    }\n",
       "\n",
       "    .dataframe thead th {\n",
       "        text-align: right;\n",
       "    }\n",
       "</style>\n",
       "<table border=\"1\" class=\"dataframe\">\n",
       "  <thead>\n",
       "    <tr style=\"text-align: right;\">\n",
       "      <th></th>\n",
       "      <th>id</th>\n",
       "      <th>product_code</th>\n",
       "      <th>loading</th>\n",
       "      <th>attribute_0</th>\n",
       "      <th>attribute_1</th>\n",
       "      <th>attribute_2</th>\n",
       "      <th>attribute_3</th>\n",
       "      <th>measurement_0</th>\n",
       "      <th>measurement_1</th>\n",
       "      <th>measurement_2</th>\n",
       "      <th>...</th>\n",
       "      <th>measurement_9</th>\n",
       "      <th>measurement_10</th>\n",
       "      <th>measurement_11</th>\n",
       "      <th>measurement_12</th>\n",
       "      <th>measurement_13</th>\n",
       "      <th>measurement_14</th>\n",
       "      <th>measurement_15</th>\n",
       "      <th>measurement_16</th>\n",
       "      <th>measurement_17</th>\n",
       "      <th>failure</th>\n",
       "    </tr>\n",
       "  </thead>\n",
       "  <tbody>\n",
       "    <tr>\n",
       "      <th>0</th>\n",
       "      <td>0</td>\n",
       "      <td>A</td>\n",
       "      <td>80.10</td>\n",
       "      <td>material_7</td>\n",
       "      <td>material_8</td>\n",
       "      <td>9</td>\n",
       "      <td>5</td>\n",
       "      <td>7</td>\n",
       "      <td>8</td>\n",
       "      <td>4</td>\n",
       "      <td>...</td>\n",
       "      <td>10.672</td>\n",
       "      <td>15.859</td>\n",
       "      <td>17.594</td>\n",
       "      <td>15.193</td>\n",
       "      <td>15.029</td>\n",
       "      <td>NaN</td>\n",
       "      <td>13.034</td>\n",
       "      <td>14.684</td>\n",
       "      <td>764.100</td>\n",
       "      <td>0.0</td>\n",
       "    </tr>\n",
       "    <tr>\n",
       "      <th>1</th>\n",
       "      <td>1</td>\n",
       "      <td>A</td>\n",
       "      <td>84.89</td>\n",
       "      <td>material_7</td>\n",
       "      <td>material_8</td>\n",
       "      <td>9</td>\n",
       "      <td>5</td>\n",
       "      <td>14</td>\n",
       "      <td>3</td>\n",
       "      <td>3</td>\n",
       "      <td>...</td>\n",
       "      <td>12.448</td>\n",
       "      <td>17.947</td>\n",
       "      <td>17.915</td>\n",
       "      <td>11.755</td>\n",
       "      <td>14.732</td>\n",
       "      <td>15.425</td>\n",
       "      <td>14.395</td>\n",
       "      <td>15.631</td>\n",
       "      <td>682.057</td>\n",
       "      <td>0.0</td>\n",
       "    </tr>\n",
       "    <tr>\n",
       "      <th>2</th>\n",
       "      <td>2</td>\n",
       "      <td>A</td>\n",
       "      <td>82.43</td>\n",
       "      <td>material_7</td>\n",
       "      <td>material_8</td>\n",
       "      <td>9</td>\n",
       "      <td>5</td>\n",
       "      <td>12</td>\n",
       "      <td>1</td>\n",
       "      <td>5</td>\n",
       "      <td>...</td>\n",
       "      <td>12.715</td>\n",
       "      <td>15.607</td>\n",
       "      <td>NaN</td>\n",
       "      <td>13.798</td>\n",
       "      <td>16.711</td>\n",
       "      <td>18.631</td>\n",
       "      <td>14.094</td>\n",
       "      <td>17.946</td>\n",
       "      <td>663.376</td>\n",
       "      <td>0.0</td>\n",
       "    </tr>\n",
       "    <tr>\n",
       "      <th>3</th>\n",
       "      <td>3</td>\n",
       "      <td>A</td>\n",
       "      <td>101.07</td>\n",
       "      <td>material_7</td>\n",
       "      <td>material_8</td>\n",
       "      <td>9</td>\n",
       "      <td>5</td>\n",
       "      <td>13</td>\n",
       "      <td>2</td>\n",
       "      <td>6</td>\n",
       "      <td>...</td>\n",
       "      <td>12.471</td>\n",
       "      <td>16.346</td>\n",
       "      <td>18.377</td>\n",
       "      <td>10.020</td>\n",
       "      <td>15.250</td>\n",
       "      <td>15.562</td>\n",
       "      <td>16.154</td>\n",
       "      <td>17.172</td>\n",
       "      <td>826.282</td>\n",
       "      <td>0.0</td>\n",
       "    </tr>\n",
       "    <tr>\n",
       "      <th>4</th>\n",
       "      <td>4</td>\n",
       "      <td>A</td>\n",
       "      <td>188.06</td>\n",
       "      <td>material_7</td>\n",
       "      <td>material_8</td>\n",
       "      <td>9</td>\n",
       "      <td>5</td>\n",
       "      <td>9</td>\n",
       "      <td>2</td>\n",
       "      <td>8</td>\n",
       "      <td>...</td>\n",
       "      <td>10.337</td>\n",
       "      <td>17.082</td>\n",
       "      <td>19.932</td>\n",
       "      <td>12.428</td>\n",
       "      <td>16.182</td>\n",
       "      <td>12.760</td>\n",
       "      <td>13.153</td>\n",
       "      <td>16.412</td>\n",
       "      <td>579.885</td>\n",
       "      <td>0.0</td>\n",
       "    </tr>\n",
       "  </tbody>\n",
       "</table>\n",
       "<p>5 rows × 26 columns</p>\n",
       "</div>"
      ],
      "text/plain": [
       "   id product_code  loading attribute_0 attribute_1  attribute_2  attribute_3  \\\n",
       "0   0            A    80.10  material_7  material_8            9            5   \n",
       "1   1            A    84.89  material_7  material_8            9            5   \n",
       "2   2            A    82.43  material_7  material_8            9            5   \n",
       "3   3            A   101.07  material_7  material_8            9            5   \n",
       "4   4            A   188.06  material_7  material_8            9            5   \n",
       "\n",
       "   measurement_0  measurement_1  measurement_2  ...  measurement_9  \\\n",
       "0              7              8              4  ...         10.672   \n",
       "1             14              3              3  ...         12.448   \n",
       "2             12              1              5  ...         12.715   \n",
       "3             13              2              6  ...         12.471   \n",
       "4              9              2              8  ...         10.337   \n",
       "\n",
       "   measurement_10  measurement_11  measurement_12  measurement_13  \\\n",
       "0          15.859          17.594          15.193          15.029   \n",
       "1          17.947          17.915          11.755          14.732   \n",
       "2          15.607             NaN          13.798          16.711   \n",
       "3          16.346          18.377          10.020          15.250   \n",
       "4          17.082          19.932          12.428          16.182   \n",
       "\n",
       "   measurement_14  measurement_15  measurement_16  measurement_17  failure  \n",
       "0             NaN          13.034          14.684         764.100      0.0  \n",
       "1          15.425          14.395          15.631         682.057      0.0  \n",
       "2          18.631          14.094          17.946         663.376      0.0  \n",
       "3          15.562          16.154          17.172         826.282      0.0  \n",
       "4          12.760          13.153          16.412         579.885      0.0  \n",
       "\n",
       "[5 rows x 26 columns]"
      ]
     },
     "execution_count": 27,
     "metadata": {},
     "output_type": "execute_result"
    }
   ],
   "source": [
    "data.head()"
   ]
  },
  {
   "cell_type": "code",
   "execution_count": 28,
   "id": "96c02d58",
   "metadata": {},
   "outputs": [],
   "source": [
    "data.index = data['id']"
   ]
  },
  {
   "cell_type": "code",
   "execution_count": 29,
   "id": "902f3def",
   "metadata": {},
   "outputs": [],
   "source": [
    "data.drop(['id'],axis=1, inplace=True)"
   ]
  },
  {
   "cell_type": "code",
   "execution_count": 30,
   "id": "30604008",
   "metadata": {},
   "outputs": [
    {
     "name": "stdout",
     "output_type": "stream",
     "text": [
      "<class 'pandas.core.frame.DataFrame'>\n",
      "Int64Index: 47345 entries, 0 to 47344\n",
      "Data columns (total 25 columns):\n",
      " #   Column          Non-Null Count  Dtype  \n",
      "---  ------          --------------  -----  \n",
      " 0   product_code    47345 non-null  object \n",
      " 1   loading         46872 non-null  float64\n",
      " 2   attribute_0     47345 non-null  object \n",
      " 3   attribute_1     47345 non-null  object \n",
      " 4   attribute_2     47345 non-null  int64  \n",
      " 5   attribute_3     47345 non-null  int64  \n",
      " 6   measurement_0   47345 non-null  int64  \n",
      " 7   measurement_1   47345 non-null  int64  \n",
      " 8   measurement_2   47345 non-null  int64  \n",
      " 9   measurement_3   46635 non-null  float64\n",
      " 10  measurement_4   46398 non-null  float64\n",
      " 11  measurement_5   46161 non-null  float64\n",
      " 12  measurement_6   45925 non-null  float64\n",
      " 13  measurement_7   45688 non-null  float64\n",
      " 14  measurement_8   45451 non-null  float64\n",
      " 15  measurement_9   45214 non-null  float64\n",
      " 16  measurement_10  44978 non-null  float64\n",
      " 17  measurement_11  44741 non-null  float64\n",
      " 18  measurement_12  44504 non-null  float64\n",
      " 19  measurement_13  44268 non-null  float64\n",
      " 20  measurement_14  44031 non-null  float64\n",
      " 21  measurement_15  43794 non-null  float64\n",
      " 22  measurement_16  43557 non-null  float64\n",
      " 23  measurement_17  43321 non-null  float64\n",
      " 24  failure         26570 non-null  float64\n",
      "dtypes: float64(17), int64(5), object(3)\n",
      "memory usage: 9.4+ MB\n"
     ]
    }
   ],
   "source": [
    "data.info()"
   ]
  },
  {
   "cell_type": "code",
   "execution_count": 31,
   "id": "2d5d27ab",
   "metadata": {},
   "outputs": [
    {
     "data": {
      "text/html": [
       "<div>\n",
       "<style scoped>\n",
       "    .dataframe tbody tr th:only-of-type {\n",
       "        vertical-align: middle;\n",
       "    }\n",
       "\n",
       "    .dataframe tbody tr th {\n",
       "        vertical-align: top;\n",
       "    }\n",
       "\n",
       "    .dataframe thead th {\n",
       "        text-align: right;\n",
       "    }\n",
       "</style>\n",
       "<table border=\"1\" class=\"dataframe\">\n",
       "  <thead>\n",
       "    <tr style=\"text-align: right;\">\n",
       "      <th></th>\n",
       "      <th>loading</th>\n",
       "      <th>attribute_2</th>\n",
       "      <th>attribute_3</th>\n",
       "      <th>measurement_0</th>\n",
       "      <th>measurement_1</th>\n",
       "      <th>measurement_2</th>\n",
       "      <th>measurement_3</th>\n",
       "      <th>measurement_4</th>\n",
       "      <th>measurement_5</th>\n",
       "      <th>measurement_6</th>\n",
       "      <th>...</th>\n",
       "      <th>measurement_9</th>\n",
       "      <th>measurement_10</th>\n",
       "      <th>measurement_11</th>\n",
       "      <th>measurement_12</th>\n",
       "      <th>measurement_13</th>\n",
       "      <th>measurement_14</th>\n",
       "      <th>measurement_15</th>\n",
       "      <th>measurement_16</th>\n",
       "      <th>measurement_17</th>\n",
       "      <th>failure</th>\n",
       "    </tr>\n",
       "  </thead>\n",
       "  <tbody>\n",
       "    <tr>\n",
       "      <th>count</th>\n",
       "      <td>46872.000000</td>\n",
       "      <td>47345.000000</td>\n",
       "      <td>47345.000000</td>\n",
       "      <td>47345.000000</td>\n",
       "      <td>47345.000000</td>\n",
       "      <td>47345.000000</td>\n",
       "      <td>46635.000000</td>\n",
       "      <td>46398.000000</td>\n",
       "      <td>46161.000000</td>\n",
       "      <td>45925.000000</td>\n",
       "      <td>...</td>\n",
       "      <td>45214.000000</td>\n",
       "      <td>44978.000000</td>\n",
       "      <td>44741.000000</td>\n",
       "      <td>44504.000000</td>\n",
       "      <td>44268.000000</td>\n",
       "      <td>44031.000000</td>\n",
       "      <td>43794.000000</td>\n",
       "      <td>43557.000000</td>\n",
       "      <td>43321.000000</td>\n",
       "      <td>26570.000000</td>\n",
       "    </tr>\n",
       "    <tr>\n",
       "      <th>mean</th>\n",
       "      <td>127.742337</td>\n",
       "      <td>7.184032</td>\n",
       "      <td>6.782511</td>\n",
       "      <td>7.432422</td>\n",
       "      <td>8.552793</td>\n",
       "      <td>6.199683</td>\n",
       "      <td>17.792378</td>\n",
       "      <td>11.729944</td>\n",
       "      <td>17.132315</td>\n",
       "      <td>17.512970</td>\n",
       "      <td>...</td>\n",
       "      <td>11.425098</td>\n",
       "      <td>16.120460</td>\n",
       "      <td>19.029202</td>\n",
       "      <td>11.795419</td>\n",
       "      <td>15.689501</td>\n",
       "      <td>16.081604</td>\n",
       "      <td>15.048413</td>\n",
       "      <td>16.537596</td>\n",
       "      <td>701.322119</td>\n",
       "      <td>0.212608</td>\n",
       "    </tr>\n",
       "    <tr>\n",
       "      <th>std</th>\n",
       "      <td>39.084410</td>\n",
       "      <td>1.484426</td>\n",
       "      <td>1.752717</td>\n",
       "      <td>4.186657</td>\n",
       "      <td>4.274405</td>\n",
       "      <td>3.550439</td>\n",
       "      <td>1.001631</td>\n",
       "      <td>1.000809</td>\n",
       "      <td>1.001835</td>\n",
       "      <td>0.997767</td>\n",
       "      <td>...</td>\n",
       "      <td>0.999505</td>\n",
       "      <td>1.477943</td>\n",
       "      <td>1.559309</td>\n",
       "      <td>1.438893</td>\n",
       "      <td>1.248694</td>\n",
       "      <td>1.457224</td>\n",
       "      <td>1.548537</td>\n",
       "      <td>1.682775</td>\n",
       "      <td>126.381679</td>\n",
       "      <td>0.409160</td>\n",
       "    </tr>\n",
       "    <tr>\n",
       "      <th>min</th>\n",
       "      <td>33.160000</td>\n",
       "      <td>5.000000</td>\n",
       "      <td>4.000000</td>\n",
       "      <td>0.000000</td>\n",
       "      <td>0.000000</td>\n",
       "      <td>0.000000</td>\n",
       "      <td>13.565000</td>\n",
       "      <td>7.384000</td>\n",
       "      <td>12.073000</td>\n",
       "      <td>12.715000</td>\n",
       "      <td>...</td>\n",
       "      <td>7.537000</td>\n",
       "      <td>9.167000</td>\n",
       "      <td>12.461000</td>\n",
       "      <td>5.167000</td>\n",
       "      <td>9.209000</td>\n",
       "      <td>8.415000</td>\n",
       "      <td>8.417000</td>\n",
       "      <td>9.701000</td>\n",
       "      <td>1.671000</td>\n",
       "      <td>0.000000</td>\n",
       "    </tr>\n",
       "    <tr>\n",
       "      <th>25%</th>\n",
       "      <td>99.777500</td>\n",
       "      <td>6.000000</td>\n",
       "      <td>5.000000</td>\n",
       "      <td>4.000000</td>\n",
       "      <td>5.000000</td>\n",
       "      <td>4.000000</td>\n",
       "      <td>17.117000</td>\n",
       "      <td>11.050000</td>\n",
       "      <td>16.450000</td>\n",
       "      <td>16.843000</td>\n",
       "      <td>...</td>\n",
       "      <td>10.753000</td>\n",
       "      <td>15.164000</td>\n",
       "      <td>17.958000</td>\n",
       "      <td>10.861000</td>\n",
       "      <td>14.884000</td>\n",
       "      <td>15.137000</td>\n",
       "      <td>14.008000</td>\n",
       "      <td>15.371000</td>\n",
       "      <td>618.905000</td>\n",
       "      <td>0.000000</td>\n",
       "    </tr>\n",
       "    <tr>\n",
       "      <th>50%</th>\n",
       "      <td>122.260000</td>\n",
       "      <td>7.000000</td>\n",
       "      <td>7.000000</td>\n",
       "      <td>7.000000</td>\n",
       "      <td>8.000000</td>\n",
       "      <td>6.000000</td>\n",
       "      <td>17.788000</td>\n",
       "      <td>11.731000</td>\n",
       "      <td>17.132000</td>\n",
       "      <td>17.514000</td>\n",
       "      <td>...</td>\n",
       "      <td>11.423000</td>\n",
       "      <td>16.118000</td>\n",
       "      <td>19.053000</td>\n",
       "      <td>11.821000</td>\n",
       "      <td>15.672000</td>\n",
       "      <td>16.081000</td>\n",
       "      <td>15.010000</td>\n",
       "      <td>16.558000</td>\n",
       "      <td>701.220000</td>\n",
       "      <td>0.000000</td>\n",
       "    </tr>\n",
       "    <tr>\n",
       "      <th>75%</th>\n",
       "      <td>149.010000</td>\n",
       "      <td>9.000000</td>\n",
       "      <td>8.000000</td>\n",
       "      <td>10.000000</td>\n",
       "      <td>11.000000</td>\n",
       "      <td>8.000000</td>\n",
       "      <td>18.474000</td>\n",
       "      <td>12.411000</td>\n",
       "      <td>17.813000</td>\n",
       "      <td>18.186000</td>\n",
       "      <td>...</td>\n",
       "      <td>12.098000</td>\n",
       "      <td>17.081750</td>\n",
       "      <td>20.107000</td>\n",
       "      <td>12.751000</td>\n",
       "      <td>16.467000</td>\n",
       "      <td>17.048000</td>\n",
       "      <td>16.056000</td>\n",
       "      <td>17.698000</td>\n",
       "      <td>784.373000</td>\n",
       "      <td>0.000000</td>\n",
       "    </tr>\n",
       "    <tr>\n",
       "      <th>max</th>\n",
       "      <td>385.860000</td>\n",
       "      <td>9.000000</td>\n",
       "      <td>9.000000</td>\n",
       "      <td>30.000000</td>\n",
       "      <td>33.000000</td>\n",
       "      <td>28.000000</td>\n",
       "      <td>21.499000</td>\n",
       "      <td>16.484000</td>\n",
       "      <td>21.681000</td>\n",
       "      <td>21.543000</td>\n",
       "      <td>...</td>\n",
       "      <td>15.412000</td>\n",
       "      <td>23.354000</td>\n",
       "      <td>25.640000</td>\n",
       "      <td>18.962000</td>\n",
       "      <td>22.713000</td>\n",
       "      <td>23.140000</td>\n",
       "      <td>22.097000</td>\n",
       "      <td>24.094000</td>\n",
       "      <td>1312.794000</td>\n",
       "      <td>1.000000</td>\n",
       "    </tr>\n",
       "  </tbody>\n",
       "</table>\n",
       "<p>8 rows × 22 columns</p>\n",
       "</div>"
      ],
      "text/plain": [
       "            loading   attribute_2   attribute_3  measurement_0  measurement_1  \\\n",
       "count  46872.000000  47345.000000  47345.000000   47345.000000   47345.000000   \n",
       "mean     127.742337      7.184032      6.782511       7.432422       8.552793   \n",
       "std       39.084410      1.484426      1.752717       4.186657       4.274405   \n",
       "min       33.160000      5.000000      4.000000       0.000000       0.000000   \n",
       "25%       99.777500      6.000000      5.000000       4.000000       5.000000   \n",
       "50%      122.260000      7.000000      7.000000       7.000000       8.000000   \n",
       "75%      149.010000      9.000000      8.000000      10.000000      11.000000   \n",
       "max      385.860000      9.000000      9.000000      30.000000      33.000000   \n",
       "\n",
       "       measurement_2  measurement_3  measurement_4  measurement_5  \\\n",
       "count   47345.000000   46635.000000   46398.000000   46161.000000   \n",
       "mean        6.199683      17.792378      11.729944      17.132315   \n",
       "std         3.550439       1.001631       1.000809       1.001835   \n",
       "min         0.000000      13.565000       7.384000      12.073000   \n",
       "25%         4.000000      17.117000      11.050000      16.450000   \n",
       "50%         6.000000      17.788000      11.731000      17.132000   \n",
       "75%         8.000000      18.474000      12.411000      17.813000   \n",
       "max        28.000000      21.499000      16.484000      21.681000   \n",
       "\n",
       "       measurement_6  ...  measurement_9  measurement_10  measurement_11  \\\n",
       "count   45925.000000  ...   45214.000000    44978.000000    44741.000000   \n",
       "mean       17.512970  ...      11.425098       16.120460       19.029202   \n",
       "std         0.997767  ...       0.999505        1.477943        1.559309   \n",
       "min        12.715000  ...       7.537000        9.167000       12.461000   \n",
       "25%        16.843000  ...      10.753000       15.164000       17.958000   \n",
       "50%        17.514000  ...      11.423000       16.118000       19.053000   \n",
       "75%        18.186000  ...      12.098000       17.081750       20.107000   \n",
       "max        21.543000  ...      15.412000       23.354000       25.640000   \n",
       "\n",
       "       measurement_12  measurement_13  measurement_14  measurement_15  \\\n",
       "count    44504.000000    44268.000000    44031.000000    43794.000000   \n",
       "mean        11.795419       15.689501       16.081604       15.048413   \n",
       "std          1.438893        1.248694        1.457224        1.548537   \n",
       "min          5.167000        9.209000        8.415000        8.417000   \n",
       "25%         10.861000       14.884000       15.137000       14.008000   \n",
       "50%         11.821000       15.672000       16.081000       15.010000   \n",
       "75%         12.751000       16.467000       17.048000       16.056000   \n",
       "max         18.962000       22.713000       23.140000       22.097000   \n",
       "\n",
       "       measurement_16  measurement_17       failure  \n",
       "count    43557.000000    43321.000000  26570.000000  \n",
       "mean        16.537596      701.322119      0.212608  \n",
       "std          1.682775      126.381679      0.409160  \n",
       "min          9.701000        1.671000      0.000000  \n",
       "25%         15.371000      618.905000      0.000000  \n",
       "50%         16.558000      701.220000      0.000000  \n",
       "75%         17.698000      784.373000      0.000000  \n",
       "max         24.094000     1312.794000      1.000000  \n",
       "\n",
       "[8 rows x 22 columns]"
      ]
     },
     "execution_count": 31,
     "metadata": {},
     "output_type": "execute_result"
    }
   ],
   "source": [
    "data.describe()"
   ]
  },
  {
   "cell_type": "code",
   "execution_count": 32,
   "id": "4cbe217b",
   "metadata": {},
   "outputs": [
    {
     "data": {
      "text/plain": [
       "array([[<AxesSubplot:title={'center':'loading'}>,\n",
       "        <AxesSubplot:title={'center':'attribute_2'}>,\n",
       "        <AxesSubplot:title={'center':'attribute_3'}>,\n",
       "        <AxesSubplot:title={'center':'measurement_0'}>,\n",
       "        <AxesSubplot:title={'center':'measurement_1'}>],\n",
       "       [<AxesSubplot:title={'center':'measurement_2'}>,\n",
       "        <AxesSubplot:title={'center':'measurement_3'}>,\n",
       "        <AxesSubplot:title={'center':'measurement_4'}>,\n",
       "        <AxesSubplot:title={'center':'measurement_5'}>,\n",
       "        <AxesSubplot:title={'center':'measurement_6'}>],\n",
       "       [<AxesSubplot:title={'center':'measurement_7'}>,\n",
       "        <AxesSubplot:title={'center':'measurement_8'}>,\n",
       "        <AxesSubplot:title={'center':'measurement_9'}>,\n",
       "        <AxesSubplot:title={'center':'measurement_10'}>,\n",
       "        <AxesSubplot:title={'center':'measurement_11'}>],\n",
       "       [<AxesSubplot:title={'center':'measurement_12'}>,\n",
       "        <AxesSubplot:title={'center':'measurement_13'}>,\n",
       "        <AxesSubplot:title={'center':'measurement_14'}>,\n",
       "        <AxesSubplot:title={'center':'measurement_15'}>,\n",
       "        <AxesSubplot:title={'center':'measurement_16'}>],\n",
       "       [<AxesSubplot:title={'center':'measurement_17'}>,\n",
       "        <AxesSubplot:title={'center':'failure'}>, <AxesSubplot:>,\n",
       "        <AxesSubplot:>, <AxesSubplot:>]], dtype=object)"
      ]
     },
     "execution_count": 32,
     "metadata": {},
     "output_type": "execute_result"
    },
    {
     "data": {
      "image/png": "[encoded data removed]",
      "text/plain": [
       "<Figure size 1440x1080 with 25 Axes>"
      ]
     },
     "metadata": {
      "needs_background": "light"
     },
     "output_type": "display_data"
    }
   ],
   "source": [
    "data.hist(bins=50,figsize=(20,15))"
   ]
  },
  {
   "cell_type": "code",
   "execution_count": 33,
   "id": "6159ae1e",
   "metadata": {},
   "outputs": [],
   "source": [
    "from pandas.plotting import scatter_matrix"
   ]
  },
  {
   "cell_type": "code",
   "execution_count": 34,
   "id": "29b9e3bd",
   "metadata": {},
   "outputs": [],
   "source": [
    "attribute = ['attribute_2','attribute_3','measurement_0','measurement_1','measurement_2']"
   ]
  },
  {
   "cell_type": "code",
   "execution_count": 35,
   "id": "2b9fccd7",
   "metadata": {},
   "outputs": [
    {
     "data": {
      "text/plain": [
       "array([[<AxesSubplot:xlabel='attribute_2', ylabel='attribute_2'>,\n",
       "        <AxesSubplot:xlabel='attribute_3', ylabel='attribute_2'>,\n",
       "        <AxesSubplot:xlabel='measurement_0', ylabel='attribute_2'>,\n",
       "        <AxesSubplot:xlabel='measurement_1', ylabel='attribute_2'>,\n",
       "        <AxesSubplot:xlabel='measurement_2', ylabel='attribute_2'>],\n",
       "       [<AxesSubplot:xlabel='attribute_2', ylabel='attribute_3'>,\n",
       "        <AxesSubplot:xlabel='attribute_3', ylabel='attribute_3'>,\n",
       "        <AxesSubplot:xlabel='measurement_0', ylabel='attribute_3'>,\n",
       "        <AxesSubplot:xlabel='measurement_1', ylabel='attribute_3'>,\n",
       "        <AxesSubplot:xlabel='measurement_2', ylabel='attribute_3'>],\n",
       "       [<AxesSubplot:xlabel='attribute_2', ylabel='measurement_0'>,\n",
       "        <AxesSubplot:xlabel='attribute_3', ylabel='measurement_0'>,\n",
       "        <AxesSubplot:xlabel='measurement_0', ylabel='measurement_0'>,\n",
       "        <AxesSubplot:xlabel='measurement_1', ylabel='measurement_0'>,\n",
       "        <AxesSubplot:xlabel='measurement_2', ylabel='measurement_0'>],\n",
       "       [<AxesSubplot:xlabel='attribute_2', ylabel='measurement_1'>,\n",
       "        <AxesSubplot:xlabel='attribute_3', ylabel='measurement_1'>,\n",
       "        <AxesSubplot:xlabel='measurement_0', ylabel='measurement_1'>,\n",
       "        <AxesSubplot:xlabel='measurement_1', ylabel='measurement_1'>,\n",
       "        <AxesSubplot:xlabel='measurement_2', ylabel='measurement_1'>],\n",
       "       [<AxesSubplot:xlabel='attribute_2', ylabel='measurement_2'>,\n",
       "        <AxesSubplot:xlabel='attribute_3', ylabel='measurement_2'>,\n",
       "        <AxesSubplot:xlabel='measurement_0', ylabel='measurement_2'>,\n",
       "        <AxesSubplot:xlabel='measurement_1', ylabel='measurement_2'>,\n",
       "        <AxesSubplot:xlabel='measurement_2', ylabel='measurement_2'>]],\n",
       "      dtype=object)"
      ]
     },
     "execution_count": 35,
     "metadata": {},
     "output_type": "execute_result"
    },
    {
     "data": {
      "image/png": "[encoded data removed]",
      "text/plain": [
       "<Figure size 864x576 with 25 Axes>"
      ]
     },
     "metadata": {
      "needs_background": "light"
     },
     "output_type": "display_data"
    }
   ],
   "source": [
    "scatter_matrix(data[attribute],figsize=[12,8])"
   ]
  },
  {
   "cell_type": "markdown",
   "id": "68cc9d3b",
   "metadata": {},
   "source": [
    "## Data clean"
   ]
  },
  {
   "cell_type": "code",
   "execution_count": 36,
   "id": "c292ae3d",
   "metadata": {},
   "outputs": [],
   "source": [
    "from sklearn.impute import SimpleImputer"
   ]
  },
  {
   "cell_type": "code",
   "execution_count": 37,
   "id": "4f3837c3",
   "metadata": {},
   "outputs": [],
   "source": [
    "imputer = SimpleImputer(strategy='mean')\n",
    "X = imputer.fit_transform(data[['loading']])"
   ]
  },
  {
   "cell_type": "code",
   "execution_count": 38,
   "id": "01539dab",
   "metadata": {},
   "outputs": [],
   "source": [
    "data_loading = pd.DataFrame(X, columns=['loading'])"
   ]
  },
  {
   "cell_type": "code",
   "execution_count": 39,
   "id": "7461bce6",
   "metadata": {},
   "outputs": [],
   "source": [
    "imputer = SimpleImputer(strategy='median')\n",
    "y = imputer.fit_transform(data.iloc[:,9:24])"
   ]
  },
  {
   "cell_type": "code",
   "execution_count": 40,
   "id": "336a6632",
   "metadata": {},
   "outputs": [],
   "source": [
    "data_null = pd.DataFrame(y, columns=data.iloc[:,9:24].columns)"
   ]
  },
  {
   "cell_type": "markdown",
   "id": "b737a60e",
   "metadata": {},
   "source": [
    "## Catgeorical Data"
   ]
  },
  {
   "cell_type": "code",
   "execution_count": 41,
   "id": "427b4df9",
   "metadata": {},
   "outputs": [
    {
     "data": {
      "text/plain": [
       "material_7    31566\n",
       "material_5    15779\n",
       "Name: attribute_0, dtype: int64"
      ]
     },
     "execution_count": 41,
     "metadata": {},
     "output_type": "execute_result"
    }
   ],
   "source": [
    "data['attribute_0'].value_counts()"
   ]
  },
  {
   "cell_type": "code",
   "execution_count": 42,
   "id": "3e5fe6df",
   "metadata": {},
   "outputs": [
    {
     "data": {
      "text/plain": [
       "material_6    15872\n",
       "material_5    15590\n",
       "material_8    10865\n",
       "material_7     5018\n",
       "Name: attribute_1, dtype: int64"
      ]
     },
     "execution_count": 42,
     "metadata": {},
     "output_type": "execute_result"
    }
   ],
   "source": [
    "data['attribute_1'].value_counts()"
   ]
  },
  {
   "cell_type": "code",
   "execution_count": 43,
   "id": "2b0aa402",
   "metadata": {},
   "outputs": [
    {
     "data": {
      "text/plain": [
       "C    5765\n",
       "F    5422\n",
       "E    5343\n",
       "B    5250\n",
       "I    5228\n",
       "D    5112\n",
       "G    5107\n",
       "A    5100\n",
       "H    5018\n",
       "Name: product_code, dtype: int64"
      ]
     },
     "execution_count": 43,
     "metadata": {},
     "output_type": "execute_result"
    }
   ],
   "source": [
    "data['product_code'].value_counts()"
   ]
  },
  {
   "cell_type": "code",
   "execution_count": 44,
   "id": "f35777b8",
   "metadata": {},
   "outputs": [],
   "source": [
    "from sklearn.preprocessing import OneHotEncoder"
   ]
  },
  {
   "cell_type": "code",
   "execution_count": 45,
   "id": "03eeb515",
   "metadata": {},
   "outputs": [],
   "source": [
    "hot_encd = OneHotEncoder()\n",
    "data_cat0 = hot_encd.fit_transform(data[['attribute_0']])\n",
    "data_cat1 = hot_encd.fit_transform(data[['attribute_1']])"
   ]
  },
  {
   "cell_type": "code",
   "execution_count": 46,
   "id": "5d7b587e",
   "metadata": {},
   "outputs": [],
   "source": [
    "a = data_cat0.toarray()\n",
    "b = data_cat1.toarray()"
   ]
  },
  {
   "cell_type": "code",
   "execution_count": 47,
   "id": "969fd55e",
   "metadata": {},
   "outputs": [],
   "source": [
    "data_cat = pd.DataFrame(a, columns=['att0_material_7','att0_material_5'])\n",
    "data_cat_1 = pd.DataFrame(b, columns=['att1_material_6','att1_material_5','att1_material_8','att1_material_7'])"
   ]
  },
  {
   "cell_type": "code",
   "execution_count": 48,
   "id": "b9f44418",
   "metadata": {
    "scrolled": false
   },
   "outputs": [],
   "source": [
    "data_cat_2 = pd.get_dummies(data['product_code'])"
   ]
  },
  {
   "cell_type": "markdown",
   "id": "ba1f8378",
   "metadata": {},
   "source": [
    "## Scaling"
   ]
  },
  {
   "cell_type": "code",
   "execution_count": 66,
   "id": "ca48fa54",
   "metadata": {},
   "outputs": [],
   "source": [
    "not_null_data = data[attribute]\n",
    "data_scaling = pd.concat([data_loading,not_null_data,data_null],axis=1)"
   ]
  },
  {
   "cell_type": "code",
   "execution_count": 67,
   "id": "d8620afc",
   "metadata": {},
   "outputs": [],
   "source": [
    "from sklearn.preprocessing import StandardScaler"
   ]
  },
  {
   "cell_type": "code",
   "execution_count": 68,
   "id": "e521e8e5",
   "metadata": {},
   "outputs": [],
   "source": [
    "std_scaler = StandardScaler()\n",
    "scale_data = std_scaler.fit_transform(data_scaling)"
   ]
  },
  {
   "cell_type": "code",
   "execution_count": 69,
   "id": "b3d6b60a",
   "metadata": {},
   "outputs": [],
   "source": [
    "scale_data = pd.DataFrame(scale_data, columns=data_scaling.columns)"
   ]
  },
  {
   "cell_type": "code",
   "execution_count": 70,
   "id": "bd62a894",
   "metadata": {},
   "outputs": [
    {
     "data": {
      "text/html": [
       "<div>\n",
       "<style scoped>\n",
       "    .dataframe tbody tr th:only-of-type {\n",
       "        vertical-align: middle;\n",
       "    }\n",
       "\n",
       "    .dataframe tbody tr th {\n",
       "        vertical-align: top;\n",
       "    }\n",
       "\n",
       "    .dataframe thead th {\n",
       "        text-align: right;\n",
       "    }\n",
       "</style>\n",
       "<table border=\"1\" class=\"dataframe\">\n",
       "  <thead>\n",
       "    <tr style=\"text-align: right;\">\n",
       "      <th></th>\n",
       "      <th>loading</th>\n",
       "      <th>attribute_2</th>\n",
       "      <th>attribute_3</th>\n",
       "      <th>measurement_0</th>\n",
       "      <th>measurement_1</th>\n",
       "      <th>measurement_2</th>\n",
       "      <th>measurement_3</th>\n",
       "      <th>measurement_4</th>\n",
       "      <th>measurement_5</th>\n",
       "      <th>measurement_6</th>\n",
       "      <th>...</th>\n",
       "      <th>measurement_8</th>\n",
       "      <th>measurement_9</th>\n",
       "      <th>measurement_10</th>\n",
       "      <th>measurement_11</th>\n",
       "      <th>measurement_12</th>\n",
       "      <th>measurement_13</th>\n",
       "      <th>measurement_14</th>\n",
       "      <th>measurement_15</th>\n",
       "      <th>measurement_16</th>\n",
       "      <th>measurement_17</th>\n",
       "    </tr>\n",
       "  </thead>\n",
       "  <tbody>\n",
       "    <tr>\n",
       "      <th>0</th>\n",
       "      <td>-1.225108</td>\n",
       "      <td>1.223359</td>\n",
       "      <td>-1.01701</td>\n",
       "      <td>-0.103287</td>\n",
       "      <td>-0.129328</td>\n",
       "      <td>-0.619559</td>\n",
       "      <td>0.249163</td>\n",
       "      <td>0.795402</td>\n",
       "      <td>-1.399396</td>\n",
       "      <td>1.810355</td>\n",
       "      <td>...</td>\n",
       "      <td>1.142622</td>\n",
       "      <td>-0.770934</td>\n",
       "      <td>-0.181420</td>\n",
       "      <td>-0.947682</td>\n",
       "      <td>2.434351</td>\n",
       "      <td>-0.546089</td>\n",
       "      <td>-0.000400</td>\n",
       "      <td>-1.350611</td>\n",
       "      <td>-1.149428</td>\n",
       "      <td>0.519368</td>\n",
       "    </tr>\n",
       "    <tr>\n",
       "      <th>1</th>\n",
       "      <td>-1.101935</td>\n",
       "      <td>1.223359</td>\n",
       "      <td>-1.01701</td>\n",
       "      <td>1.568709</td>\n",
       "      <td>-1.299094</td>\n",
       "      <td>-0.901217</td>\n",
       "      <td>0.423193</td>\n",
       "      <td>-0.191740</td>\n",
       "      <td>0.591065</td>\n",
       "      <td>0.386697</td>\n",
       "      <td>...</td>\n",
       "      <td>-1.153632</td>\n",
       "      <td>1.047357</td>\n",
       "      <td>1.268068</td>\n",
       "      <td>-0.735915</td>\n",
       "      <td>-0.030073</td>\n",
       "      <td>-0.792066</td>\n",
       "      <td>-0.467210</td>\n",
       "      <td>-0.436789</td>\n",
       "      <td>-0.562703</td>\n",
       "      <td>-0.159289</td>\n",
       "    </tr>\n",
       "    <tr>\n",
       "      <th>2</th>\n",
       "      <td>-1.165193</td>\n",
       "      <td>1.223359</td>\n",
       "      <td>-1.01701</td>\n",
       "      <td>1.090996</td>\n",
       "      <td>-1.767000</td>\n",
       "      <td>-0.337901</td>\n",
       "      <td>0.266264</td>\n",
       "      <td>-0.078694</td>\n",
       "      <td>-0.398605</td>\n",
       "      <td>0.739813</td>\n",
       "      <td>...</td>\n",
       "      <td>-0.749305</td>\n",
       "      <td>1.320715</td>\n",
       "      <td>-0.356358</td>\n",
       "      <td>0.014837</td>\n",
       "      <td>1.434388</td>\n",
       "      <td>0.846954</td>\n",
       "      <td>1.814182</td>\n",
       "      <td>-0.638891</td>\n",
       "      <td>0.871582</td>\n",
       "      <td>-0.313817</td>\n",
       "    </tr>\n",
       "    <tr>\n",
       "      <th>3</th>\n",
       "      <td>-0.685871</td>\n",
       "      <td>1.223359</td>\n",
       "      <td>-1.01701</td>\n",
       "      <td>1.329853</td>\n",
       "      <td>-1.533047</td>\n",
       "      <td>-0.056242</td>\n",
       "      <td>-0.500273</td>\n",
       "      <td>-0.547031</td>\n",
       "      <td>1.459428</td>\n",
       "      <td>0.840558</td>\n",
       "      <td>...</td>\n",
       "      <td>0.033002</td>\n",
       "      <td>1.070905</td>\n",
       "      <td>0.156655</td>\n",
       "      <td>-0.431128</td>\n",
       "      <td>-1.273755</td>\n",
       "      <td>-0.363055</td>\n",
       "      <td>-0.369721</td>\n",
       "      <td>0.744263</td>\n",
       "      <td>0.392041</td>\n",
       "      <td>1.033736</td>\n",
       "    </tr>\n",
       "    <tr>\n",
       "      <th>4</th>\n",
       "      <td>1.551050</td>\n",
       "      <td>1.223359</td>\n",
       "      <td>-1.01701</td>\n",
       "      <td>0.374426</td>\n",
       "      <td>-1.533047</td>\n",
       "      <td>0.507074</td>\n",
       "      <td>1.562938</td>\n",
       "      <td>1.231440</td>\n",
       "      <td>-0.143859</td>\n",
       "      <td>-1.798145</td>\n",
       "      <td>...</td>\n",
       "      <td>-0.946908</td>\n",
       "      <td>-1.113912</td>\n",
       "      <td>0.667586</td>\n",
       "      <td>0.594723</td>\n",
       "      <td>0.452346</td>\n",
       "      <td>0.408833</td>\n",
       "      <td>-2.363626</td>\n",
       "      <td>-1.270710</td>\n",
       "      <td>-0.078826</td>\n",
       "      <td>-1.004452</td>\n",
       "    </tr>\n",
       "  </tbody>\n",
       "</table>\n",
       "<p>5 rows × 21 columns</p>\n",
       "</div>"
      ],
      "text/plain": [
       "    loading  attribute_2  attribute_3  measurement_0  measurement_1  \\\n",
       "0 -1.225108     1.223359     -1.01701      -0.103287      -0.129328   \n",
       "1 -1.101935     1.223359     -1.01701       1.568709      -1.299094   \n",
       "2 -1.165193     1.223359     -1.01701       1.090996      -1.767000   \n",
       "3 -0.685871     1.223359     -1.01701       1.329853      -1.533047   \n",
       "4  1.551050     1.223359     -1.01701       0.374426      -1.533047   \n",
       "\n",
       "   measurement_2  measurement_3  measurement_4  measurement_5  measurement_6  \\\n",
       "0      -0.619559       0.249163       0.795402      -1.399396       1.810355   \n",
       "1      -0.901217       0.423193      -0.191740       0.591065       0.386697   \n",
       "2      -0.337901       0.266264      -0.078694      -0.398605       0.739813   \n",
       "3      -0.056242      -0.500273      -0.547031       1.459428       0.840558   \n",
       "4       0.507074       1.562938       1.231440      -0.143859      -1.798145   \n",
       "\n",
       "   ...  measurement_8  measurement_9  measurement_10  measurement_11  \\\n",
       "0  ...       1.142622      -0.770934       -0.181420       -0.947682   \n",
       "1  ...      -1.153632       1.047357        1.268068       -0.735915   \n",
       "2  ...      -0.749305       1.320715       -0.356358        0.014837   \n",
       "3  ...       0.033002       1.070905        0.156655       -0.431128   \n",
       "4  ...      -0.946908      -1.113912        0.667586        0.594723   \n",
       "\n",
       "   measurement_12  measurement_13  measurement_14  measurement_15  \\\n",
       "0        2.434351       -0.546089       -0.000400       -1.350611   \n",
       "1       -0.030073       -0.792066       -0.467210       -0.436789   \n",
       "2        1.434388        0.846954        1.814182       -0.638891   \n",
       "3       -1.273755       -0.363055       -0.369721        0.744263   \n",
       "4        0.452346        0.408833       -2.363626       -1.270710   \n",
       "\n",
       "   measurement_16  measurement_17  \n",
       "0       -1.149428        0.519368  \n",
       "1       -0.562703       -0.159289  \n",
       "2        0.871582       -0.313817  \n",
       "3        0.392041        1.033736  \n",
       "4       -0.078826       -1.004452  \n",
       "\n",
       "[5 rows x 21 columns]"
      ]
     },
     "execution_count": 70,
     "metadata": {},
     "output_type": "execute_result"
    }
   ],
   "source": [
    "scale_data.head()"
   ]
  },
  {
   "cell_type": "markdown",
   "id": "a6fc33f1",
   "metadata": {},
   "source": [
    "## Train Test Split"
   ]
  },
  {
   "cell_type": "code",
   "execution_count": 71,
   "id": "44d343bf",
   "metadata": {},
   "outputs": [],
   "source": [
    "from sklearn.model_selection import train_test_split"
   ]
  },
  {
   "cell_type": "code",
   "execution_count": 84,
   "id": "5107735b",
   "metadata": {},
   "outputs": [],
   "source": [
    "V = pd.concat([data_cat_2,scale_data,data_cat, data_cat_1],axis=1)"
   ]
  },
  {
   "cell_type": "code",
   "execution_count": 85,
   "id": "bce2b7a0",
   "metadata": {},
   "outputs": [],
   "source": [
    "W = data['failure']"
   ]
  },
  {
   "cell_type": "code",
   "execution_count": 86,
   "id": "6d8777a7",
   "metadata": {},
   "outputs": [],
   "source": [
    "X_train = V.iloc[:26570]"
   ]
  },
  {
   "cell_type": "code",
   "execution_count": 91,
   "id": "aa3942a2",
   "metadata": {},
   "outputs": [],
   "source": [
    "y_train = W.iloc[:26570]"
   ]
  },
  {
   "cell_type": "code",
   "execution_count": 97,
   "id": "ef25b8d6",
   "metadata": {},
   "outputs": [],
   "source": [
    "train_all = pd.concat([X_train,y_train],axis=1)"
   ]
  },
  {
   "cell_type": "code",
   "execution_count": 98,
   "id": "51d4ef9c",
   "metadata": {},
   "outputs": [],
   "source": [
    "X_test = V.iloc[26570:]"
   ]
  },
  {
   "cell_type": "code",
   "execution_count": 107,
   "id": "1d246655",
   "metadata": {},
   "outputs": [],
   "source": [
    "X_train_set, X_test_set, y_train_set, y_test_set = train_test_split(X_train, y_train,test_size=0.2, random_state=42) "
   ]
  },
  {
   "cell_type": "markdown",
   "id": "113cc045",
   "metadata": {},
   "source": [
    "## Apply algorithms"
   ]
  },
  {
   "cell_type": "code",
   "execution_count": 108,
   "id": "066ef7b1",
   "metadata": {},
   "outputs": [],
   "source": [
    "from sklearn.linear_model import SGDClassifier"
   ]
  },
  {
   "cell_type": "code",
   "execution_count": 109,
   "id": "b8a5714c",
   "metadata": {},
   "outputs": [],
   "source": [
    "sgd_clf = SGDClassifier(random_state=42)"
   ]
  },
  {
   "cell_type": "code",
   "execution_count": 110,
   "id": "b2bf6539",
   "metadata": {},
   "outputs": [
    {
     "data": {
      "text/html": [
       "<style>#sk-container-id-1 {color: black;background-color: white;}#sk-container-id-1 pre{padding: 0;}#sk-container-id-1 div.sk-toggleable {background-color: white;}#sk-container-id-1 label.sk-toggleable__label {cursor: pointer;display: block;width: 100%;margin-bottom: 0;padding: 0.3em;box-sizing: border-box;text-align: center;}#sk-container-id-1 label.sk-toggleable__label-arrow:before {content: \"▸\";float: left;margin-right: 0.25em;color: #696969;}#sk-container-id-1 label.sk-toggleable__label-arrow:hover:before {color: black;}#sk-container-id-1 div.sk-estimator:hover label.sk-toggleable__label-arrow:before {color: black;}#sk-container-id-1 div.sk-toggleable__content {max-height: 0;max-width: 0;overflow: hidden;text-align: left;background-color: #f0f8ff;}#sk-container-id-1 div.sk-toggleable__content pre {margin: 0.2em;color: black;border-radius: 0.25em;background-color: #f0f8ff;}#sk-container-id-1 input.sk-toggleable__control:checked~div.sk-toggleable__content {max-height: 200px;max-width: 100%;overflow: auto;}#sk-container-id-1 input.sk-toggleable__control:checked~label.sk-toggleable__label-arrow:before {content: \"▾\";}#sk-container-id-1 div.sk-estimator input.sk-toggleable__control:checked~label.sk-toggleable__label {background-color: #d4ebff;}#sk-container-id-1 div.sk-label input.sk-toggleable__control:checked~label.sk-toggleable__label {background-color: #d4ebff;}#sk-container-id-1 input.sk-hidden--visually {border: 0;clip: rect(1px 1px 1px 1px);clip: rect(1px, 1px, 1px, 1px);height: 1px;margin: -1px;overflow: hidden;padding: 0;position: absolute;width: 1px;}#sk-container-id-1 div.sk-estimator {font-family: monospace;background-color: #f0f8ff;border: 1px dotted black;border-radius: 0.25em;box-sizing: border-box;margin-bottom: 0.5em;}#sk-container-id-1 div.sk-estimator:hover {background-color: #d4ebff;}#sk-container-id-1 div.sk-parallel-item::after {content: \"\";width: 100%;border-bottom: 1px solid gray;flex-grow: 1;}#sk-container-id-1 div.sk-label:hover label.sk-toggleable__label {background-color: #d4ebff;}#sk-container-id-1 div.sk-serial::before {content: \"\";position: absolute;border-left: 1px solid gray;box-sizing: border-box;top: 0;bottom: 0;left: 50%;z-index: 0;}#sk-container-id-1 div.sk-serial {display: flex;flex-direction: column;align-items: center;background-color: white;padding-right: 0.2em;padding-left: 0.2em;position: relative;}#sk-container-id-1 div.sk-item {position: relative;z-index: 1;}#sk-container-id-1 div.sk-parallel {display: flex;align-items: stretch;justify-content: center;background-color: white;position: relative;}#sk-container-id-1 div.sk-item::before, #sk-container-id-1 div.sk-parallel-item::before {content: \"\";position: absolute;border-left: 1px solid gray;box-sizing: border-box;top: 0;bottom: 0;left: 50%;z-index: -1;}#sk-container-id-1 div.sk-parallel-item {display: flex;flex-direction: column;z-index: 1;position: relative;background-color: white;}#sk-container-id-1 div.sk-parallel-item:first-child::after {align-self: flex-end;width: 50%;}#sk-container-id-1 div.sk-parallel-item:last-child::after {align-self: flex-start;width: 50%;}#sk-container-id-1 div.sk-parallel-item:only-child::after {width: 0;}#sk-container-id-1 div.sk-dashed-wrapped {border: 1px dashed gray;margin: 0 0.4em 0.5em 0.4em;box-sizing: border-box;padding-bottom: 0.4em;background-color: white;}#sk-container-id-1 div.sk-label label {font-family: monospace;font-weight: bold;display: inline-block;line-height: 1.2em;}#sk-container-id-1 div.sk-label-container {text-align: center;}#sk-container-id-1 div.sk-container {/* jupyter's `normalize.less` sets `[hidden] { display: none; }` but bootstrap.min.css set `[hidden] { display: none !important; }` so we also need the `!important` here to be able to override the default hidden behavior on the sphinx rendered scikit-learn.org. See: https://github.com/scikit-learn/scikit-learn/issues/21755 */display: inline-block !important;position: relative;}#sk-container-id-1 div.sk-text-repr-fallback {display: none;}</style><div id=\"sk-container-id-1\" class=\"sk-top-container\"><div class=\"sk-text-repr-fallback\"><pre>SGDClassifier(random_state=42)</pre><b>In a Jupyter environment, please rerun this cell to show the HTML representation or trust the notebook. <br />On GitHub, the HTML representation is unable to render, please try loading this page with nbviewer.org.</b></div><div class=\"sk-container\" hidden><div class=\"sk-item\"><div class=\"sk-estimator sk-toggleable\"><input class=\"sk-toggleable__control sk-hidden--visually\" id=\"sk-estimator-id-1\" type=\"checkbox\" checked><label for=\"sk-estimator-id-1\" class=\"sk-toggleable__label sk-toggleable__label-arrow\">SGDClassifier</label><div class=\"sk-toggleable__content\"><pre>SGDClassifier(random_state=42)</pre></div></div></div></div></div>"
      ],
      "text/plain": [
       "SGDClassifier(random_state=42)"
      ]
     },
     "execution_count": 110,
     "metadata": {},
     "output_type": "execute_result"
    }
   ],
   "source": [
    "sgd_clf.fit(X_train_set,y_train_set)"
   ]
  },
  {
   "cell_type": "code",
   "execution_count": 126,
   "id": "9a1b627b",
   "metadata": {},
   "outputs": [],
   "source": [
    "model0 = sgd_clf.predict(X_test_set)"
   ]
  },
  {
   "cell_type": "code",
   "execution_count": 130,
   "id": "20cbc12a",
   "metadata": {},
   "outputs": [],
   "source": [
    "from sklearn.metrics import confusion_matrix, precision_score, recall_score, classification_report"
   ]
  },
  {
   "cell_type": "code",
   "execution_count": 128,
   "id": "778b86f9",
   "metadata": {},
   "outputs": [
    {
     "data": {
      "text/plain": [
       "array([[4257,    0],\n",
       "       [1057,    0]], dtype=int64)"
      ]
     },
     "execution_count": 128,
     "metadata": {},
     "output_type": "execute_result"
    }
   ],
   "source": [
    "confusion_matrix(y_test_set,model0)"
   ]
  },
  {
   "cell_type": "code",
   "execution_count": 138,
   "id": "e559e59e",
   "metadata": {},
   "outputs": [],
   "source": [
    "from sklearn.linear_model import LogisticRegression"
   ]
  },
  {
   "cell_type": "code",
   "execution_count": 139,
   "id": "d55bed28",
   "metadata": {},
   "outputs": [
    {
     "data": {
      "text/html": [
       "<style>#sk-container-id-2 {color: black;background-color: white;}#sk-container-id-2 pre{padding: 0;}#sk-container-id-2 div.sk-toggleable {background-color: white;}#sk-container-id-2 label.sk-toggleable__label {cursor: pointer;display: block;width: 100%;margin-bottom: 0;padding: 0.3em;box-sizing: border-box;text-align: center;}#sk-container-id-2 label.sk-toggleable__label-arrow:before {content: \"▸\";float: left;margin-right: 0.25em;color: #696969;}#sk-container-id-2 label.sk-toggleable__label-arrow:hover:before {color: black;}#sk-container-id-2 div.sk-estimator:hover label.sk-toggleable__label-arrow:before {color: black;}#sk-container-id-2 div.sk-toggleable__content {max-height: 0;max-width: 0;overflow: hidden;text-align: left;background-color: #f0f8ff;}#sk-container-id-2 div.sk-toggleable__content pre {margin: 0.2em;color: black;border-radius: 0.25em;background-color: #f0f8ff;}#sk-container-id-2 input.sk-toggleable__control:checked~div.sk-toggleable__content {max-height: 200px;max-width: 100%;overflow: auto;}#sk-container-id-2 input.sk-toggleable__control:checked~label.sk-toggleable__label-arrow:before {content: \"▾\";}#sk-container-id-2 div.sk-estimator input.sk-toggleable__control:checked~label.sk-toggleable__label {background-color: #d4ebff;}#sk-container-id-2 div.sk-label input.sk-toggleable__control:checked~label.sk-toggleable__label {background-color: #d4ebff;}#sk-container-id-2 input.sk-hidden--visually {border: 0;clip: rect(1px 1px 1px 1px);clip: rect(1px, 1px, 1px, 1px);height: 1px;margin: -1px;overflow: hidden;padding: 0;position: absolute;width: 1px;}#sk-container-id-2 div.sk-estimator {font-family: monospace;background-color: #f0f8ff;border: 1px dotted black;border-radius: 0.25em;box-sizing: border-box;margin-bottom: 0.5em;}#sk-container-id-2 div.sk-estimator:hover {background-color: #d4ebff;}#sk-container-id-2 div.sk-parallel-item::after {content: \"\";width: 100%;border-bottom: 1px solid gray;flex-grow: 1;}#sk-container-id-2 div.sk-label:hover label.sk-toggleable__label {background-color: #d4ebff;}#sk-container-id-2 div.sk-serial::before {content: \"\";position: absolute;border-left: 1px solid gray;box-sizing: border-box;top: 0;bottom: 0;left: 50%;z-index: 0;}#sk-container-id-2 div.sk-serial {display: flex;flex-direction: column;align-items: center;background-color: white;padding-right: 0.2em;padding-left: 0.2em;position: relative;}#sk-container-id-2 div.sk-item {position: relative;z-index: 1;}#sk-container-id-2 div.sk-parallel {display: flex;align-items: stretch;justify-content: center;background-color: white;position: relative;}#sk-container-id-2 div.sk-item::before, #sk-container-id-2 div.sk-parallel-item::before {content: \"\";position: absolute;border-left: 1px solid gray;box-sizing: border-box;top: 0;bottom: 0;left: 50%;z-index: -1;}#sk-container-id-2 div.sk-parallel-item {display: flex;flex-direction: column;z-index: 1;position: relative;background-color: white;}#sk-container-id-2 div.sk-parallel-item:first-child::after {align-self: flex-end;width: 50%;}#sk-container-id-2 div.sk-parallel-item:last-child::after {align-self: flex-start;width: 50%;}#sk-container-id-2 div.sk-parallel-item:only-child::after {width: 0;}#sk-container-id-2 div.sk-dashed-wrapped {border: 1px dashed gray;margin: 0 0.4em 0.5em 0.4em;box-sizing: border-box;padding-bottom: 0.4em;background-color: white;}#sk-container-id-2 div.sk-label label {font-family: monospace;font-weight: bold;display: inline-block;line-height: 1.2em;}#sk-container-id-2 div.sk-label-container {text-align: center;}#sk-container-id-2 div.sk-container {/* jupyter's `normalize.less` sets `[hidden] { display: none; }` but bootstrap.min.css set `[hidden] { display: none !important; }` so we also need the `!important` here to be able to override the default hidden behavior on the sphinx rendered scikit-learn.org. See: https://github.com/scikit-learn/scikit-learn/issues/21755 */display: inline-block !important;position: relative;}#sk-container-id-2 div.sk-text-repr-fallback {display: none;}</style><div id=\"sk-container-id-2\" class=\"sk-top-container\"><div class=\"sk-text-repr-fallback\"><pre>LogisticRegression()</pre><b>In a Jupyter environment, please rerun this cell to show the HTML representation or trust the notebook. <br />On GitHub, the HTML representation is unable to render, please try loading this page with nbviewer.org.</b></div><div class=\"sk-container\" hidden><div class=\"sk-item\"><div class=\"sk-estimator sk-toggleable\"><input class=\"sk-toggleable__control sk-hidden--visually\" id=\"sk-estimator-id-2\" type=\"checkbox\" checked><label for=\"sk-estimator-id-2\" class=\"sk-toggleable__label sk-toggleable__label-arrow\">LogisticRegression</label><div class=\"sk-toggleable__content\"><pre>LogisticRegression()</pre></div></div></div></div></div>"
      ],
      "text/plain": [
       "LogisticRegression()"
      ]
     },
     "execution_count": 139,
     "metadata": {},
     "output_type": "execute_result"
    }
   ],
   "source": [
    "log_reg = LogisticRegression()\n",
    "log_reg.fit(X_train,y_train)"
   ]
  },
  {
   "cell_type": "code",
   "execution_count": 140,
   "id": "7feff380",
   "metadata": {},
   "outputs": [],
   "source": [
    "model1 = log_reg.predict(X_test_set)"
   ]
  },
  {
   "cell_type": "code",
   "execution_count": 141,
   "id": "6d208f6b",
   "metadata": {},
   "outputs": [
    {
     "data": {
      "text/plain": [
       "array([[4249,    8],\n",
       "       [1052,    5]], dtype=int64)"
      ]
     },
     "execution_count": 141,
     "metadata": {},
     "output_type": "execute_result"
    }
   ],
   "source": [
    "confusion_matrix(y_test_set,model1)"
   ]
  },
  {
   "cell_type": "code",
   "execution_count": 143,
   "id": "51efd16a",
   "metadata": {},
   "outputs": [
    {
     "data": {
      "text/plain": [
       "0.38461538461538464"
      ]
     },
     "execution_count": 143,
     "metadata": {},
     "output_type": "execute_result"
    }
   ],
   "source": [
    "precision_score(y_test_set,model1)"
   ]
  },
  {
   "cell_type": "code",
   "execution_count": 144,
   "id": "7203b9b9",
   "metadata": {},
   "outputs": [
    {
     "data": {
      "text/plain": [
       "0.004730368968779565"
      ]
     },
     "execution_count": 144,
     "metadata": {},
     "output_type": "execute_result"
    }
   ],
   "source": [
    "recall_score(y_test_set,model1)"
   ]
  },
  {
   "cell_type": "code",
   "execution_count": 145,
   "id": "3336339d",
   "metadata": {},
   "outputs": [],
   "source": [
    "from sklearn.ensemble import RandomForestClassifier"
   ]
  },
  {
   "cell_type": "code",
   "execution_count": 146,
   "id": "22054309",
   "metadata": {},
   "outputs": [],
   "source": [
    "ran_clf = RandomForestClassifier(random_state=50)"
   ]
  },
  {
   "cell_type": "code",
   "execution_count": 147,
   "id": "c491bbfb",
   "metadata": {},
   "outputs": [
    {
     "data": {
      "text/html": [
       "<style>#sk-container-id-3 {color: black;background-color: white;}#sk-container-id-3 pre{padding: 0;}#sk-container-id-3 div.sk-toggleable {background-color: white;}#sk-container-id-3 label.sk-toggleable__label {cursor: pointer;display: block;width: 100%;margin-bottom: 0;padding: 0.3em;box-sizing: border-box;text-align: center;}#sk-container-id-3 label.sk-toggleable__label-arrow:before {content: \"▸\";float: left;margin-right: 0.25em;color: #696969;}#sk-container-id-3 label.sk-toggleable__label-arrow:hover:before {color: black;}#sk-container-id-3 div.sk-estimator:hover label.sk-toggleable__label-arrow:before {color: black;}#sk-container-id-3 div.sk-toggleable__content {max-height: 0;max-width: 0;overflow: hidden;text-align: left;background-color: #f0f8ff;}#sk-container-id-3 div.sk-toggleable__content pre {margin: 0.2em;color: black;border-radius: 0.25em;background-color: #f0f8ff;}#sk-container-id-3 input.sk-toggleable__control:checked~div.sk-toggleable__content {max-height: 200px;max-width: 100%;overflow: auto;}#sk-container-id-3 input.sk-toggleable__control:checked~label.sk-toggleable__label-arrow:before {content: \"▾\";}#sk-container-id-3 div.sk-estimator input.sk-toggleable__control:checked~label.sk-toggleable__label {background-color: #d4ebff;}#sk-container-id-3 div.sk-label input.sk-toggleable__control:checked~label.sk-toggleable__label {background-color: #d4ebff;}#sk-container-id-3 input.sk-hidden--visually {border: 0;clip: rect(1px 1px 1px 1px);clip: rect(1px, 1px, 1px, 1px);height: 1px;margin: -1px;overflow: hidden;padding: 0;position: absolute;width: 1px;}#sk-container-id-3 div.sk-estimator {font-family: monospace;background-color: #f0f8ff;border: 1px dotted black;border-radius: 0.25em;box-sizing: border-box;margin-bottom: 0.5em;}#sk-container-id-3 div.sk-estimator:hover {background-color: #d4ebff;}#sk-container-id-3 div.sk-parallel-item::after {content: \"\";width: 100%;border-bottom: 1px solid gray;flex-grow: 1;}#sk-container-id-3 div.sk-label:hover label.sk-toggleable__label {background-color: #d4ebff;}#sk-container-id-3 div.sk-serial::before {content: \"\";position: absolute;border-left: 1px solid gray;box-sizing: border-box;top: 0;bottom: 0;left: 50%;z-index: 0;}#sk-container-id-3 div.sk-serial {display: flex;flex-direction: column;align-items: center;background-color: white;padding-right: 0.2em;padding-left: 0.2em;position: relative;}#sk-container-id-3 div.sk-item {position: relative;z-index: 1;}#sk-container-id-3 div.sk-parallel {display: flex;align-items: stretch;justify-content: center;background-color: white;position: relative;}#sk-container-id-3 div.sk-item::before, #sk-container-id-3 div.sk-parallel-item::before {content: \"\";position: absolute;border-left: 1px solid gray;box-sizing: border-box;top: 0;bottom: 0;left: 50%;z-index: -1;}#sk-container-id-3 div.sk-parallel-item {display: flex;flex-direction: column;z-index: 1;position: relative;background-color: white;}#sk-container-id-3 div.sk-parallel-item:first-child::after {align-self: flex-end;width: 50%;}#sk-container-id-3 div.sk-parallel-item:last-child::after {align-self: flex-start;width: 50%;}#sk-container-id-3 div.sk-parallel-item:only-child::after {width: 0;}#sk-container-id-3 div.sk-dashed-wrapped {border: 1px dashed gray;margin: 0 0.4em 0.5em 0.4em;box-sizing: border-box;padding-bottom: 0.4em;background-color: white;}#sk-container-id-3 div.sk-label label {font-family: monospace;font-weight: bold;display: inline-block;line-height: 1.2em;}#sk-container-id-3 div.sk-label-container {text-align: center;}#sk-container-id-3 div.sk-container {/* jupyter's `normalize.less` sets `[hidden] { display: none; }` but bootstrap.min.css set `[hidden] { display: none !important; }` so we also need the `!important` here to be able to override the default hidden behavior on the sphinx rendered scikit-learn.org. See: https://github.com/scikit-learn/scikit-learn/issues/21755 */display: inline-block !important;position: relative;}#sk-container-id-3 div.sk-text-repr-fallback {display: none;}</style><div id=\"sk-container-id-3\" class=\"sk-top-container\"><div class=\"sk-text-repr-fallback\"><pre>RandomForestClassifier(random_state=50)</pre><b>In a Jupyter environment, please rerun this cell to show the HTML representation or trust the notebook. <br />On GitHub, the HTML representation is unable to render, please try loading this page with nbviewer.org.</b></div><div class=\"sk-container\" hidden><div class=\"sk-item\"><div class=\"sk-estimator sk-toggleable\"><input class=\"sk-toggleable__control sk-hidden--visually\" id=\"sk-estimator-id-3\" type=\"checkbox\" checked><label for=\"sk-estimator-id-3\" class=\"sk-toggleable__label sk-toggleable__label-arrow\">RandomForestClassifier</label><div class=\"sk-toggleable__content\"><pre>RandomForestClassifier(random_state=50)</pre></div></div></div></div></div>"
      ],
      "text/plain": [
       "RandomForestClassifier(random_state=50)"
      ]
     },
     "execution_count": 147,
     "metadata": {},
     "output_type": "execute_result"
    }
   ],
   "source": [
    "ran_clf.fit(X_train,y_train)"
   ]
  },
  {
   "cell_type": "code",
   "execution_count": 148,
   "id": "29a0d5fd",
   "metadata": {},
   "outputs": [],
   "source": [
    "model2 = ran_clf.predict(X_test_set)"
   ]
  },
  {
   "cell_type": "code",
   "execution_count": 149,
   "id": "dead627b",
   "metadata": {},
   "outputs": [
    {
     "data": {
      "text/plain": [
       "1.0"
      ]
     },
     "execution_count": 149,
     "metadata": {},
     "output_type": "execute_result"
    }
   ],
   "source": [
    "precision_score(y_test_set,model2)"
   ]
  },
  {
   "cell_type": "code",
   "execution_count": 150,
   "id": "8a060bcd",
   "metadata": {},
   "outputs": [
    {
     "data": {
      "text/plain": [
       "1.0"
      ]
     },
     "execution_count": 150,
     "metadata": {},
     "output_type": "execute_result"
    }
   ],
   "source": [
    "recall_score(y_test_set,model2)"
   ]
  },
  {
   "cell_type": "code",
   "execution_count": 151,
   "id": "5e64237d",
   "metadata": {},
   "outputs": [
    {
     "data": {
      "text/plain": [
       "array([[4257,    0],\n",
       "       [   0, 1057]], dtype=int64)"
      ]
     },
     "execution_count": 151,
     "metadata": {},
     "output_type": "execute_result"
    }
   ],
   "source": [
    "confusion_matrix(y_test_set,model2)"
   ]
  },
  {
   "cell_type": "code",
   "execution_count": 174,
   "id": "f015cc51",
   "metadata": {},
   "outputs": [],
   "source": []
  },
  {
   "cell_type": "code",
   "execution_count": 188,
   "id": "0faba308",
   "metadata": {},
   "outputs": [],
   "source": []
  },
  {
   "cell_type": "code",
   "execution_count": null,
   "id": "d76ce2a3",
   "metadata": {},
   "outputs": [],
   "source": []
  },
  {
   "cell_type": "code",
   "execution_count": null,
   "id": "5bd218d4",
   "metadata": {},
   "outputs": [],
   "source": []
  },
  {
   "cell_type": "code",
   "execution_count": null,
   "id": "7d531de5",
   "metadata": {},
   "outputs": [],
   "source": []
  },
  {
   "cell_type": "code",
   "execution_count": null,
   "id": "144a4874",
   "metadata": {},
   "outputs": [],
   "source": []
  }
 ],
 "metadata": {
  "kernelspec": {
   "display_name": "Python 3 (ipykernel)",
   "language": "python",
   "name": "python3"
  },
  "language_info": {
   "codemirror_mode": {
    "name": "ipython",
    "version": 3
   },
   "file_extension": ".py",
   "mimetype": "text/x-python",
   "name": "python",
   "nbconvert_exporter": "python",
   "pygments_lexer": "ipython3",
   "version": "3.9.1"
  }
 },
 "nbformat": 4,
 "nbformat_minor": 5
}
