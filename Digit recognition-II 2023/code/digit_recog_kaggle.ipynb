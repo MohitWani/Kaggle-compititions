{
  "nbformat": 4,
  "nbformat_minor": 0,
  "metadata": {
    "colab": {
      "provenance": []
    },
    "kernelspec": {
      "name": "python3",
      "display_name": "Python 3"
    },
    "language_info": {
      "name": "python"
    },
    "accelerator": "GPU",
    "gpuClass": "standard"
  },
  "cells": [
    {
      "cell_type": "markdown",
      "source": [
        "### **Require Libraries and FrameWorks**"
      ],
      "metadata": {
        "id": "8ynS-hxdDYNb"
      }
    },
    {
      "cell_type": "code",
      "execution_count": 1,
      "metadata": {
        "id": "M5mIv27sv7se"
      },
      "outputs": [],
      "source": [
        "import pandas as pd\n",
        "import numpy as np\n",
        "import matplotlib.pyplot as plt\n",
        "from google.colab import drive\n",
        "\n",
        "\n",
        "from sklearn.model_selection import train_test_split, GridSearchCV\n",
        "from sklearn.preprocessing import OneHotEncoder\n",
        "from sklearn.ensemble import RandomForestClassifier, GradientBoostingClassifier, AdaBoostClassifier\n",
        "from sklearn.neighbors import KNeighborsClassifier\n",
        "from sklearn.metrics import confusion_matrix, accuracy_score\n",
        "from sklearn.cluster import KMeans\n",
        "from sklearn.pipeline import Pipeline\n",
        "\n",
        "import tensorflow as tf\n",
        "from keras.utils.np_utils import to_categorical\n",
        "from keras.preprocessing.image import ImageDataGenerator\n",
        "\n",
        "%matplotlib inline"
      ]
    },
    {
      "cell_type": "code",
      "source": [
        "drive.mount('/content/Drive', force_remount=True)"
      ],
      "metadata": {
        "colab": {
          "base_uri": "https://localhost:8080/"
        },
        "id": "S309tiZXwal4",
        "outputId": "9c6fc84c-ef88-45e2-e3c3-6c1072517d5f"
      },
      "execution_count": 2,
      "outputs": [
        {
          "output_type": "stream",
          "name": "stdout",
          "text": [
            "Mounted at /content/Drive\n"
          ]
        }
      ]
    },
    {
      "cell_type": "markdown",
      "source": [
        "### **Data preprocessing**"
      ],
      "metadata": {
        "id": "yE3YPt9mRO61"
      }
    },
    {
      "cell_type": "code",
      "source": [
        "train = pd.read_csv('/content/Drive/MyDrive/data/digit reco kaggle/train.csv')\n",
        "test = pd.read_csv('/content/Drive/MyDrive/data/digit reco kaggle/test.csv')"
      ],
      "metadata": {
        "id": "syTNC4hQxWG0"
      },
      "execution_count": 3,
      "outputs": []
    },
    {
      "cell_type": "code",
      "source": [
        "X = train.iloc[:,1:]\n",
        "y = train.iloc[:,:1]\n",
        "\n",
        "y_cate = to_categorical(y)\n",
        "\n",
        "X = X/255.\n",
        "test = test / 255."
      ],
      "metadata": {
        "id": "mlUPcQnnQAme"
      },
      "execution_count": 4,
      "outputs": []
    },
    {
      "cell_type": "code",
      "source": [
        "X_train, X_val, y_train, y_val = train_test_split(X,y, test_size=0.2)\n",
        "\n",
        "# for categerical\n",
        "X_trains, X_vals, y_trains, y_vals = train_test_split(X,y_cate, test_size=0.2)"
      ],
      "metadata": {
        "id": "gsKrzvReQICl"
      },
      "execution_count": 5,
      "outputs": []
    },
    {
      "cell_type": "code",
      "source": [
        "X_train = np.array(X_train).reshape((-1,28,28,1))\n",
        "X_val = np.array(X_val).reshape((-1,28,28,1))\n",
        "\n",
        "# for categerical\n",
        "\n",
        "X_trains = np.array(X_trains).reshape((-1,28,28,1))\n",
        "X_vals = np.array(X_vals).reshape((-1,28,28,1))\n",
        "\n",
        "# test data\n",
        "test_data = np.array(test).reshape((-1,28,28,1))"
      ],
      "metadata": {
        "id": "0cuaVeYRQMYJ"
      },
      "execution_count": 6,
      "outputs": []
    },
    {
      "cell_type": "code",
      "source": [
        "train['label'].value_counts()"
      ],
      "metadata": {
        "colab": {
          "base_uri": "https://localhost:8080/"
        },
        "id": "pfuSpxWtR0vF",
        "outputId": "0a7f15d1-d016-4357-d08c-86b2d94ea867"
      },
      "execution_count": 7,
      "outputs": [
        {
          "output_type": "execute_result",
          "data": {
            "text/plain": [
              "1    4684\n",
              "7    4401\n",
              "3    4351\n",
              "9    4188\n",
              "2    4177\n",
              "6    4137\n",
              "0    4132\n",
              "4    4072\n",
              "8    4063\n",
              "5    3795\n",
              "Name: label, dtype: int64"
            ]
          },
          "metadata": {},
          "execution_count": 7
        }
      ]
    },
    {
      "cell_type": "markdown",
      "source": [
        "**Data Augmentation**"
      ],
      "metadata": {
        "id": "zO4VqJ5q6_xt"
      }
    },
    {
      "cell_type": "code",
      "source": [
        "datagen = ImageDataGenerator(rotation_range=10,zoom_range=0.1,width_shift_range=0.1,height_shift_range=0.1)"
      ],
      "metadata": {
        "id": "TtVtUREG4U4J"
      },
      "execution_count": 8,
      "outputs": []
    },
    {
      "cell_type": "code",
      "source": [
        "train_gen = datagen.flow(X_trains,y_trains,batch_size=128)\n",
        "val_gen = datagen.flow(X_vals,y_vals,batch_size=128)"
      ],
      "metadata": {
        "id": "hHiY3sbM4Uw3"
      },
      "execution_count": 9,
      "outputs": []
    },
    {
      "cell_type": "markdown",
      "source": [
        "### **Model Building**"
      ],
      "metadata": {
        "id": "1y6vfAAeRfUh"
      }
    },
    {
      "cell_type": "code",
      "source": [
        "def lenet5(input_size=(28,28,1)):\n",
        "  inputs = tf.keras.Input(input_size)\n",
        "\n",
        "  X = tf.keras.layers.Conv2D(6,(5,5),strides=1, activation='relu')(inputs)\n",
        "\n",
        "  X = tf.keras.layers.MaxPool2D((2,2),strides=2)(X)\n",
        "\n",
        "  X = tf.keras.layers.Conv2D(16,(5,5),activation='relu')(X)\n",
        "\n",
        "  X = tf.keras.layers.MaxPool2D((2,2),strides=2)(X)\n",
        "\n",
        "  X = tf.keras.layers.Conv2D(32,(3,3),activation='relu')(X)\n",
        "\n",
        "  X = tf.keras.layers.Flatten()(X)\n",
        "\n",
        "  X = tf.keras.layers.Dense(128, activation='relu')(X)\n",
        "\n",
        "  X = tf.keras.layers.Dense(84, activation='relu')(X)\n",
        "\n",
        "  output = tf.keras.layers.Dense(10, activation='softmax')(X)\n",
        "\n",
        "  Model = tf.keras.Model(inputs = inputs, outputs=output)\n",
        "\n",
        "  return Model\n",
        "\n"
      ],
      "metadata": {
        "id": "zJWEamv6Q6xY"
      },
      "execution_count": 10,
      "outputs": []
    },
    {
      "cell_type": "code",
      "source": [
        "lenet = lenet5()\n",
        "\n",
        "lenet.summary()"
      ],
      "metadata": {
        "colab": {
          "base_uri": "https://localhost:8080/"
        },
        "id": "1sVFf7UnNbsT",
        "outputId": "ef12c0a3-5ea4-4528-bf2e-27c65e21b64a"
      },
      "execution_count": 11,
      "outputs": [
        {
          "output_type": "stream",
          "name": "stdout",
          "text": [
            "Model: \"model\"\n",
            "_________________________________________________________________\n",
            " Layer (type)                Output Shape              Param #   \n",
            "=================================================================\n",
            " input_1 (InputLayer)        [(None, 28, 28, 1)]       0         \n",
            "                                                                 \n",
            " conv2d (Conv2D)             (None, 24, 24, 6)         156       \n",
            "                                                                 \n",
            " max_pooling2d (MaxPooling2D  (None, 12, 12, 6)        0         \n",
            " )                                                               \n",
            "                                                                 \n",
            " conv2d_1 (Conv2D)           (None, 8, 8, 16)          2416      \n",
            "                                                                 \n",
            " max_pooling2d_1 (MaxPooling  (None, 4, 4, 16)         0         \n",
            " 2D)                                                             \n",
            "                                                                 \n",
            " conv2d_2 (Conv2D)           (None, 2, 2, 32)          4640      \n",
            "                                                                 \n",
            " flatten (Flatten)           (None, 128)               0         \n",
            "                                                                 \n",
            " dense (Dense)               (None, 128)               16512     \n",
            "                                                                 \n",
            " dense_1 (Dense)             (None, 84)                10836     \n",
            "                                                                 \n",
            " dense_2 (Dense)             (None, 10)                850       \n",
            "                                                                 \n",
            "=================================================================\n",
            "Total params: 35,410\n",
            "Trainable params: 35,410\n",
            "Non-trainable params: 0\n",
            "_________________________________________________________________\n"
          ]
        }
      ]
    },
    {
      "cell_type": "code",
      "source": [
        "lenet.compile(\n",
        "    loss=tf.keras.losses.SparseCategoricalCrossentropy(from_logits=False),\n",
        "    optimizer=tf.keras.optimizers.Adam(),\n",
        "    metrics=[\"accuracy\"],\n",
        ")"
      ],
      "metadata": {
        "id": "wEAfqDAAR5wS"
      },
      "execution_count": 12,
      "outputs": []
    },
    {
      "cell_type": "code",
      "source": [
        "lenet.fit(X_train,y_train,epochs=10)"
      ],
      "metadata": {
        "colab": {
          "base_uri": "https://localhost:8080/"
        },
        "id": "MTvJ1ip4SyKw",
        "outputId": "dd7f0ea3-bebd-4f7f-9cbe-092d8e4f5dd4"
      },
      "execution_count": 13,
      "outputs": [
        {
          "output_type": "stream",
          "name": "stdout",
          "text": [
            "Epoch 1/10\n",
            "1050/1050 [==============================] - 17s 5ms/step - loss: 0.3154 - accuracy: 0.9006\n",
            "Epoch 2/10\n",
            "1050/1050 [==============================] - 5s 4ms/step - loss: 0.0950 - accuracy: 0.9703\n",
            "Epoch 3/10\n",
            "1050/1050 [==============================] - 5s 5ms/step - loss: 0.0656 - accuracy: 0.9789\n",
            "Epoch 4/10\n",
            "1050/1050 [==============================] - 5s 4ms/step - loss: 0.0543 - accuracy: 0.9834\n",
            "Epoch 5/10\n",
            "1050/1050 [==============================] - 5s 4ms/step - loss: 0.0444 - accuracy: 0.9863\n",
            "Epoch 6/10\n",
            "1050/1050 [==============================] - 6s 5ms/step - loss: 0.0392 - accuracy: 0.9870\n",
            "Epoch 7/10\n",
            "1050/1050 [==============================] - 5s 4ms/step - loss: 0.0336 - accuracy: 0.9893\n",
            "Epoch 8/10\n",
            "1050/1050 [==============================] - 4s 4ms/step - loss: 0.0319 - accuracy: 0.9893\n",
            "Epoch 9/10\n",
            "1050/1050 [==============================] - 6s 5ms/step - loss: 0.0261 - accuracy: 0.9916\n",
            "Epoch 10/10\n",
            "1050/1050 [==============================] - 4s 4ms/step - loss: 0.0224 - accuracy: 0.9931\n"
          ]
        },
        {
          "output_type": "execute_result",
          "data": {
            "text/plain": [
              "<keras.callbacks.History at 0x7f7110f3d400>"
            ]
          },
          "metadata": {},
          "execution_count": 13
        }
      ]
    },
    {
      "cell_type": "code",
      "source": [
        "val_pred = lenet.predict(X_val)"
      ],
      "metadata": {
        "colab": {
          "base_uri": "https://localhost:8080/"
        },
        "id": "wZ41AkklS6gR",
        "outputId": "bf22d8c2-fd64-4027-80b9-7eeea9195007"
      },
      "execution_count": 14,
      "outputs": [
        {
          "output_type": "stream",
          "name": "stdout",
          "text": [
            "263/263 [==============================] - 1s 2ms/step\n"
          ]
        }
      ]
    },
    {
      "cell_type": "code",
      "source": [
        "y_pred = lenet.predict(test_data)"
      ],
      "metadata": {
        "colab": {
          "base_uri": "https://localhost:8080/"
        },
        "id": "Ex4wc4BMVTna",
        "outputId": "a9eadcd5-76c1-4119-a70a-398bd75c2c40"
      },
      "execution_count": 15,
      "outputs": [
        {
          "output_type": "stream",
          "name": "stdout",
          "text": [
            "235/235 [==============================] - 1s 2ms/step\n"
          ]
        }
      ]
    },
    {
      "cell_type": "markdown",
      "source": [
        "cate"
      ],
      "metadata": {
        "id": "ZYRO9v9bX7ro"
      }
    },
    {
      "cell_type": "code",
      "source": [
        "lenet.compile(\n",
        "    loss=tf.keras.losses.CategoricalCrossentropy(from_logits=False),\n",
        "    optimizer=tf.keras.optimizers.Adam(),\n",
        "    metrics=[\"accuracy\"],\n",
        ")"
      ],
      "metadata": {
        "id": "d34RCU39X69l"
      },
      "execution_count": 16,
      "outputs": []
    },
    {
      "cell_type": "code",
      "source": [
        "lenet.fit(X_trains,y_trains,epochs=20,verbose=2)"
      ],
      "metadata": {
        "colab": {
          "base_uri": "https://localhost:8080/"
        },
        "id": "ODFkhmQitus8",
        "outputId": "64b7b8ce-f172-433c-cc99-0fd80b6de784"
      },
      "execution_count": 17,
      "outputs": [
        {
          "output_type": "stream",
          "name": "stdout",
          "text": [
            "Epoch 1/20\n",
            "1050/1050 - 6s - loss: 0.0314 - accuracy: 0.9905 - 6s/epoch - 6ms/step\n",
            "Epoch 2/20\n",
            "1050/1050 - 4s - loss: 0.0229 - accuracy: 0.9925 - 4s/epoch - 4ms/step\n",
            "Epoch 3/20\n",
            "1050/1050 - 4s - loss: 0.0196 - accuracy: 0.9937 - 4s/epoch - 4ms/step\n",
            "Epoch 4/20\n",
            "1050/1050 - 5s - loss: 0.0205 - accuracy: 0.9930 - 5s/epoch - 4ms/step\n",
            "Epoch 5/20\n",
            "1050/1050 - 5s - loss: 0.0169 - accuracy: 0.9939 - 5s/epoch - 4ms/step\n",
            "Epoch 6/20\n",
            "1050/1050 - 4s - loss: 0.0136 - accuracy: 0.9953 - 4s/epoch - 4ms/step\n",
            "Epoch 7/20\n",
            "1050/1050 - 4s - loss: 0.0143 - accuracy: 0.9951 - 4s/epoch - 4ms/step\n",
            "Epoch 8/20\n",
            "1050/1050 - 4s - loss: 0.0127 - accuracy: 0.9959 - 4s/epoch - 4ms/step\n",
            "Epoch 9/20\n",
            "1050/1050 - 4s - loss: 0.0135 - accuracy: 0.9952 - 4s/epoch - 4ms/step\n",
            "Epoch 10/20\n",
            "1050/1050 - 4s - loss: 0.0110 - accuracy: 0.9965 - 4s/epoch - 4ms/step\n",
            "Epoch 11/20\n",
            "1050/1050 - 4s - loss: 0.0133 - accuracy: 0.9958 - 4s/epoch - 4ms/step\n",
            "Epoch 12/20\n",
            "1050/1050 - 4s - loss: 0.0084 - accuracy: 0.9974 - 4s/epoch - 4ms/step\n",
            "Epoch 13/20\n",
            "1050/1050 - 4s - loss: 0.0126 - accuracy: 0.9961 - 4s/epoch - 4ms/step\n",
            "Epoch 14/20\n",
            "1050/1050 - 5s - loss: 0.0099 - accuracy: 0.9968 - 5s/epoch - 4ms/step\n",
            "Epoch 15/20\n",
            "1050/1050 - 4s - loss: 0.0106 - accuracy: 0.9966 - 4s/epoch - 4ms/step\n",
            "Epoch 16/20\n",
            "1050/1050 - 4s - loss: 0.0083 - accuracy: 0.9975 - 4s/epoch - 4ms/step\n",
            "Epoch 17/20\n",
            "1050/1050 - 4s - loss: 0.0077 - accuracy: 0.9974 - 4s/epoch - 4ms/step\n",
            "Epoch 18/20\n",
            "1050/1050 - 4s - loss: 0.0116 - accuracy: 0.9965 - 4s/epoch - 4ms/step\n",
            "Epoch 19/20\n",
            "1050/1050 - 4s - loss: 0.0089 - accuracy: 0.9976 - 4s/epoch - 4ms/step\n",
            "Epoch 20/20\n",
            "1050/1050 - 4s - loss: 0.0062 - accuracy: 0.9980 - 4s/epoch - 4ms/step\n"
          ]
        },
        {
          "output_type": "execute_result",
          "data": {
            "text/plain": [
              "<keras.callbacks.History at 0x7f711196b040>"
            ]
          },
          "metadata": {},
          "execution_count": 17
        }
      ]
    },
    {
      "cell_type": "code",
      "source": [
        "lenet.evaluate(X_vals,y_vals)"
      ],
      "metadata": {
        "colab": {
          "base_uri": "https://localhost:8080/"
        },
        "id": "WCYQj_R9urbb",
        "outputId": "d62a4382-f0fb-492e-bfef-0d29d68bb5df"
      },
      "execution_count": 18,
      "outputs": [
        {
          "output_type": "stream",
          "name": "stdout",
          "text": [
            "263/263 [==============================] - 1s 4ms/step - loss: 0.0728 - accuracy: 0.9876\n"
          ]
        },
        {
          "output_type": "execute_result",
          "data": {
            "text/plain": [
              "[0.07281652092933655, 0.9876190423965454]"
            ]
          },
          "metadata": {},
          "execution_count": 18
        }
      ]
    },
    {
      "cell_type": "code",
      "source": [
        "le_pred = lenet.predict(test_data)"
      ],
      "metadata": {
        "colab": {
          "base_uri": "https://localhost:8080/"
        },
        "id": "wVJURo8gwPGI",
        "outputId": "b23f0264-4356-46b8-ed85-06f912581160"
      },
      "execution_count": 19,
      "outputs": [
        {
          "output_type": "stream",
          "name": "stdout",
          "text": [
            "235/235 [==============================] - 1s 3ms/step\n"
          ]
        }
      ]
    },
    {
      "cell_type": "code",
      "source": [
        "np.argmax(le_pred,axis=1)"
      ],
      "metadata": {
        "colab": {
          "base_uri": "https://localhost:8080/"
        },
        "id": "MrSxEvu8wisL",
        "outputId": "01b9d7c8-c315-4500-aed2-a9fc3b1801ed"
      },
      "execution_count": 20,
      "outputs": [
        {
          "output_type": "execute_result",
          "data": {
            "text/plain": [
              "array([7, 2, 7, ..., 7, 2, 1])"
            ]
          },
          "metadata": {},
          "execution_count": 20
        }
      ]
    },
    {
      "cell_type": "markdown",
      "source": [
        "model 3"
      ],
      "metadata": {
        "id": "zbIpI_euxSmU"
      }
    },
    {
      "cell_type": "code",
      "source": [
        "def model3(input_size=(28,28,1)):\n",
        "  inputs = tf.keras.Input(input_size)\n",
        "\n",
        "  X = tf.keras.layers.Conv2D(6,(5,5),strides=1, activation='relu')(inputs)\n",
        "\n",
        "  X = tf.keras.layers.Dropout(0.5)\n",
        "\n",
        "  X = tf.keras.layers.MaxPool2D((2,2),strides=2)(X)\n",
        "\n",
        "  X = tf.keras.layers.Conv2D(16,(5,5),activation='relu')(X)\n",
        "\n",
        "  X = tf.keras.layers.Dropout(0.5)\n",
        "\n",
        "  X = tf.keras.layers.MaxPool2D((2,2),strides=2)(X)\n",
        "\n",
        "  X = tf.keras.layers.Conv2D(32,(3,3),activation='relu')(X)\n",
        "\n",
        "  X = tf.keras.layers.Dropout(0.5)\n",
        "\n",
        "  X = tf.keras.layers.Flatten()(X)\n",
        "\n",
        "  X = tf.keras.layers.Dense(128, activation='relu')(X)\n",
        "\n",
        "  X = tf.keras.layers.Dense(128, activation='relu')(X)\n",
        "\n",
        "  X = tf.keras.layers.Dense(64, activation='relu')(X)\n",
        "\n",
        "  X = tf.keras.layers.Dense(64, activation='relu')(X)\n",
        "\n",
        "  output = tf.keras.layers.Dense(10, activation='softmax')(X)\n",
        "\n",
        "  Model = tf.keras.Model(inputs = inputs, outputs=output)\n",
        "\n",
        "  return Model\n",
        "\n"
      ],
      "metadata": {
        "id": "5MIOgs-wmmTK"
      },
      "execution_count": 25,
      "outputs": []
    },
    {
      "cell_type": "code",
      "source": [
        "Model3 = model()\n",
        "\n",
        "Model3.summary()"
      ],
      "metadata": {
        "id": "m_xVn882mmeC",
        "colab": {
          "base_uri": "https://localhost:8080/"
        },
        "outputId": "ab5c2a29-5b6c-4369-c2fc-17bdd89df158"
      },
      "execution_count": 26,
      "outputs": [
        {
          "output_type": "stream",
          "name": "stdout",
          "text": [
            "Model: \"model_2\"\n",
            "_________________________________________________________________\n",
            " Layer (type)                Output Shape              Param #   \n",
            "=================================================================\n",
            " input_3 (InputLayer)        [(None, 28, 28, 1)]       0         \n",
            "                                                                 \n",
            " conv2d_5 (Conv2D)           (None, 24, 24, 6)         156       \n",
            "                                                                 \n",
            " max_pooling2d_4 (MaxPooling  (None, 12, 12, 6)        0         \n",
            " 2D)                                                             \n",
            "                                                                 \n",
            " conv2d_6 (Conv2D)           (None, 8, 8, 16)          2416      \n",
            "                                                                 \n",
            " max_pooling2d_5 (MaxPooling  (None, 4, 4, 16)         0         \n",
            " 2D)                                                             \n",
            "                                                                 \n",
            " flatten_2 (Flatten)         (None, 256)               0         \n",
            "                                                                 \n",
            " dense_5 (Dense)             (None, 64)                16448     \n",
            "                                                                 \n",
            " dense_6 (Dense)             (None, 10)                650       \n",
            "                                                                 \n",
            "=================================================================\n",
            "Total params: 19,670\n",
            "Trainable params: 19,670\n",
            "Non-trainable params: 0\n",
            "_________________________________________________________________\n"
          ]
        }
      ]
    },
    {
      "cell_type": "code",
      "source": [
        "Model3.compile(\n",
        "    loss=tf.keras.losses.CategoricalCrossentropy(from_logits=False),\n",
        "    optimizer=tf.keras.optimizers.Adam(),\n",
        "    metrics=[\"accuracy\"],\n",
        ")"
      ],
      "metadata": {
        "id": "dmOmg-FFyRw0"
      },
      "execution_count": 27,
      "outputs": []
    },
    {
      "cell_type": "code",
      "source": [
        "Model3.fit(X_trains,y_trains,epochs=10,verbose=2)"
      ],
      "metadata": {
        "colab": {
          "base_uri": "https://localhost:8080/"
        },
        "id": "-OuGl315yDl9",
        "outputId": "dbc9fe51-411f-4039-f42a-d3e408b4c4b7"
      },
      "execution_count": 28,
      "outputs": [
        {
          "output_type": "stream",
          "name": "stdout",
          "text": [
            "Epoch 1/10\n",
            "1050/1050 - 4s - loss: 0.2815 - accuracy: 0.9133 - 4s/epoch - 4ms/step\n",
            "Epoch 2/10\n",
            "1050/1050 - 3s - loss: 0.0929 - accuracy: 0.9711 - 3s/epoch - 3ms/step\n",
            "Epoch 3/10\n",
            "1050/1050 - 4s - loss: 0.0654 - accuracy: 0.9797 - 4s/epoch - 4ms/step\n",
            "Epoch 4/10\n",
            "1050/1050 - 4s - loss: 0.0514 - accuracy: 0.9830 - 4s/epoch - 4ms/step\n",
            "Epoch 5/10\n",
            "1050/1050 - 3s - loss: 0.0422 - accuracy: 0.9858 - 3s/epoch - 3ms/step\n",
            "Epoch 6/10\n",
            "1050/1050 - 3s - loss: 0.0343 - accuracy: 0.9882 - 3s/epoch - 3ms/step\n",
            "Epoch 7/10\n",
            "1050/1050 - 4s - loss: 0.0304 - accuracy: 0.9901 - 4s/epoch - 4ms/step\n",
            "Epoch 8/10\n",
            "1050/1050 - 3s - loss: 0.0239 - accuracy: 0.9920 - 3s/epoch - 3ms/step\n",
            "Epoch 9/10\n",
            "1050/1050 - 3s - loss: 0.0229 - accuracy: 0.9930 - 3s/epoch - 3ms/step\n",
            "Epoch 10/10\n",
            "1050/1050 - 3s - loss: 0.0184 - accuracy: 0.9945 - 3s/epoch - 3ms/step\n"
          ]
        },
        {
          "output_type": "execute_result",
          "data": {
            "text/plain": [
              "<keras.callbacks.History at 0x7f70ec5bc820>"
            ]
          },
          "metadata": {},
          "execution_count": 28
        }
      ]
    },
    {
      "cell_type": "code",
      "source": [
        "val_pred = Model3.predict(X_vals)"
      ],
      "metadata": {
        "colab": {
          "base_uri": "https://localhost:8080/"
        },
        "id": "DHLxOGEmynZE",
        "outputId": "d278d05b-7740-4120-9733-f44b9a72a794"
      },
      "execution_count": 29,
      "outputs": [
        {
          "output_type": "stream",
          "name": "stdout",
          "text": [
            "263/263 [==============================] - 1s 2ms/step\n"
          ]
        }
      ]
    },
    {
      "cell_type": "code",
      "source": [
        "test_pred = Model3.predict(test_data)"
      ],
      "metadata": {
        "colab": {
          "base_uri": "https://localhost:8080/"
        },
        "id": "FisdgablynxS",
        "outputId": "389cdae7-8a0c-4d72-9ba4-6a6e3c1466d3"
      },
      "execution_count": 30,
      "outputs": [
        {
          "output_type": "stream",
          "name": "stdout",
          "text": [
            "235/235 [==============================] - 0s 2ms/step\n"
          ]
        }
      ]
    },
    {
      "cell_type": "markdown",
      "source": [
        "model\n"
      ],
      "metadata": {
        "id": "2if-tLE028Qd"
      }
    },
    {
      "cell_type": "code",
      "source": [
        "def model4(input_size=(28,28,1)):\n",
        "  inputs = tf.keras.Input(input_size)\n",
        "\n",
        "  X = tf.keras.layers.Conv2D(6,(5,5),strides=1, activation='relu')(inputs)\n",
        "\n",
        "  X = tf.keras.layers.Dropout(0.5)\n",
        "\n",
        "  X = tf.keras.layers.MaxPool2D((2,2),strides=2)(X)\n",
        "\n",
        "  X = tf.keras.layers.Conv2D(16,(5,5),activation='relu')(X)\n",
        "\n",
        "  X = tf.keras.layers.Dropout(0.5)\n",
        "\n",
        "  X = tf.keras.layers.Flatten()(X)\n",
        "\n",
        "  X = tf.keras.layers.Dense(128, activation='relu')(X)\n",
        "\n",
        "  X = tf.keras.layers.Dense(256, activation='relu')(X)\n",
        "\n",
        "  X = tf.keras.layers.Dense(256, activation='relu')(X)\n",
        "\n",
        "  X = tf.keras.layers.Dense(64, activation='relu')(X)\n",
        "\n",
        "  output = tf.keras.layers.Dense(10, activation='softmax')(X)\n",
        "\n",
        "  Model = tf.keras.Model(inputs = inputs, outputs=output)\n",
        "\n",
        "  return Model\n",
        "\n"
      ],
      "metadata": {
        "id": "Vd_R-t7KzaGv"
      },
      "execution_count": 31,
      "outputs": []
    },
    {
      "cell_type": "code",
      "source": [
        "Model4 = model()\n",
        "\n",
        "Model4.summary()"
      ],
      "metadata": {
        "colab": {
          "base_uri": "https://localhost:8080/"
        },
        "id": "xtBmxs6i3avM",
        "outputId": "57b96345-fc33-4ac5-cd6a-a9c441161525"
      },
      "execution_count": 32,
      "outputs": [
        {
          "output_type": "stream",
          "name": "stdout",
          "text": [
            "Model: \"model_3\"\n",
            "_________________________________________________________________\n",
            " Layer (type)                Output Shape              Param #   \n",
            "=================================================================\n",
            " input_4 (InputLayer)        [(None, 28, 28, 1)]       0         \n",
            "                                                                 \n",
            " conv2d_7 (Conv2D)           (None, 24, 24, 6)         156       \n",
            "                                                                 \n",
            " max_pooling2d_6 (MaxPooling  (None, 12, 12, 6)        0         \n",
            " 2D)                                                             \n",
            "                                                                 \n",
            " conv2d_8 (Conv2D)           (None, 8, 8, 16)          2416      \n",
            "                                                                 \n",
            " max_pooling2d_7 (MaxPooling  (None, 4, 4, 16)         0         \n",
            " 2D)                                                             \n",
            "                                                                 \n",
            " flatten_3 (Flatten)         (None, 256)               0         \n",
            "                                                                 \n",
            " dense_7 (Dense)             (None, 64)                16448     \n",
            "                                                                 \n",
            " dense_8 (Dense)             (None, 10)                650       \n",
            "                                                                 \n",
            "=================================================================\n",
            "Total params: 19,670\n",
            "Trainable params: 19,670\n",
            "Non-trainable params: 0\n",
            "_________________________________________________________________\n"
          ]
        }
      ]
    },
    {
      "cell_type": "code",
      "source": [
        "Model4.compile(\n",
        "    loss=tf.keras.losses.CategoricalCrossentropy(from_logits=False),\n",
        "    optimizer=tf.keras.optimizers.Adam(),\n",
        "    metrics=[\"accuracy\"],\n",
        ")"
      ],
      "metadata": {
        "id": "y0Zu4BD03NuZ"
      },
      "execution_count": 33,
      "outputs": []
    },
    {
      "cell_type": "code",
      "source": [
        "Model3.fit(X_trains,y_trains,epochs=10,verbose=2)"
      ],
      "metadata": {
        "colab": {
          "base_uri": "https://localhost:8080/"
        },
        "id": "8Evf1bri3NxA",
        "outputId": "90daf912-b778-4c4f-a4ae-eccb91cb1c1e"
      },
      "execution_count": 34,
      "outputs": [
        {
          "output_type": "stream",
          "name": "stdout",
          "text": [
            "Epoch 1/10\n",
            "1050/1050 - 3s - loss: 0.0167 - accuracy: 0.9940 - 3s/epoch - 3ms/step\n",
            "Epoch 2/10\n",
            "1050/1050 - 4s - loss: 0.0144 - accuracy: 0.9953 - 4s/epoch - 4ms/step\n",
            "Epoch 3/10\n",
            "1050/1050 - 3s - loss: 0.0119 - accuracy: 0.9958 - 3s/epoch - 3ms/step\n",
            "Epoch 4/10\n",
            "1050/1050 - 3s - loss: 0.0124 - accuracy: 0.9956 - 3s/epoch - 3ms/step\n",
            "Epoch 5/10\n",
            "1050/1050 - 3s - loss: 0.0116 - accuracy: 0.9959 - 3s/epoch - 3ms/step\n",
            "Epoch 6/10\n",
            "1050/1050 - 4s - loss: 0.0093 - accuracy: 0.9970 - 4s/epoch - 4ms/step\n",
            "Epoch 7/10\n",
            "1050/1050 - 3s - loss: 0.0088 - accuracy: 0.9968 - 3s/epoch - 3ms/step\n",
            "Epoch 8/10\n",
            "1050/1050 - 3s - loss: 0.0089 - accuracy: 0.9969 - 3s/epoch - 3ms/step\n",
            "Epoch 9/10\n",
            "1050/1050 - 3s - loss: 0.0101 - accuracy: 0.9964 - 3s/epoch - 3ms/step\n",
            "Epoch 10/10\n",
            "1050/1050 - 4s - loss: 0.0069 - accuracy: 0.9977 - 4s/epoch - 4ms/step\n"
          ]
        },
        {
          "output_type": "execute_result",
          "data": {
            "text/plain": [
              "<keras.callbacks.History at 0x7f711117d700>"
            ]
          },
          "metadata": {},
          "execution_count": 34
        }
      ]
    },
    {
      "cell_type": "code",
      "source": [
        "test_pred = Model3.predict(test_data)"
      ],
      "metadata": {
        "colab": {
          "base_uri": "https://localhost:8080/"
        },
        "id": "nUb1VIyE3OBz",
        "outputId": "9fd3ffe7-138b-4ef7-8df3-abb2262be338"
      },
      "execution_count": 35,
      "outputs": [
        {
          "output_type": "stream",
          "name": "stdout",
          "text": [
            "235/235 [==============================] - 1s 3ms/step\n"
          ]
        }
      ]
    },
    {
      "cell_type": "markdown",
      "source": [
        "model"
      ],
      "metadata": {
        "id": "Sm9613SU9OKO"
      }
    },
    {
      "cell_type": "code",
      "source": [
        "def model5(input_size=(28,28,1)):\n",
        "  inputs = tf.keras.Input(input_size)\n",
        "\n",
        "  X = tf.keras.layers.Conv2D(6,(5,5),strides=1, activation='relu')(inputs)\n",
        "\n",
        "  X = tf.keras.layers.MaxPool2D((2,2),strides=1)(X)\n",
        "\n",
        "  X = tf.keras.layers.Dropout(0.5)(X)\n",
        "\n",
        "  X = tf.keras.layers.Conv2D(24,(5,5),activation='relu')(X)\n",
        "\n",
        "  X = tf.keras.layers.MaxPool2D((2,2),strides=1)(X)\n",
        "\n",
        "  X = tf.keras.layers.Dropout(0.5)(X)\n",
        "\n",
        "  X = tf.keras.layers.Conv2D(48,(5,5),activation='relu')(X)\n",
        "\n",
        "  X = tf.keras.layers.Conv2D(64,(3,3),activation='relu')(X)\n",
        "\n",
        "  X = tf.keras.layers.MaxPool2D((2,2),strides=2)(X)\n",
        "\n",
        "  X = tf.keras.layers.Flatten()(X)\n",
        "\n",
        "  X = tf.keras.layers.Dense(128, activation='relu')(X)\n",
        "\n",
        "  X = tf.keras.layers.Dense(128, activation='relu')(X)\n",
        "\n",
        "  X = tf.keras.layers.Dense(64, activation='relu')(X)\n",
        "\n",
        "  output = tf.keras.layers.Dense(10, activation='softmax')(X)\n",
        "\n",
        "  Model = tf.keras.Model(inputs = inputs, outputs=output)\n",
        "\n",
        "  return Model\n",
        "\n"
      ],
      "metadata": {
        "id": "KHoVjVLV3yYi"
      },
      "execution_count": 36,
      "outputs": []
    },
    {
      "cell_type": "code",
      "source": [
        "Model5 = model5()\n",
        "Model5.summary()"
      ],
      "metadata": {
        "colab": {
          "base_uri": "https://localhost:8080/"
        },
        "id": "vWQPDyrH9a99",
        "outputId": "3956bcb0-6add-4fc3-bda1-157fd727c6a2"
      },
      "execution_count": 37,
      "outputs": [
        {
          "output_type": "stream",
          "name": "stdout",
          "text": [
            "Model: \"model_4\"\n",
            "_________________________________________________________________\n",
            " Layer (type)                Output Shape              Param #   \n",
            "=================================================================\n",
            " input_5 (InputLayer)        [(None, 28, 28, 1)]       0         \n",
            "                                                                 \n",
            " conv2d_9 (Conv2D)           (None, 24, 24, 6)         156       \n",
            "                                                                 \n",
            " max_pooling2d_8 (MaxPooling  (None, 23, 23, 6)        0         \n",
            " 2D)                                                             \n",
            "                                                                 \n",
            " dropout (Dropout)           (None, 23, 23, 6)         0         \n",
            "                                                                 \n",
            " conv2d_10 (Conv2D)          (None, 19, 19, 24)        3624      \n",
            "                                                                 \n",
            " max_pooling2d_9 (MaxPooling  (None, 18, 18, 24)       0         \n",
            " 2D)                                                             \n",
            "                                                                 \n",
            " dropout_1 (Dropout)         (None, 18, 18, 24)        0         \n",
            "                                                                 \n",
            " conv2d_11 (Conv2D)          (None, 14, 14, 48)        28848     \n",
            "                                                                 \n",
            " conv2d_12 (Conv2D)          (None, 12, 12, 64)        27712     \n",
            "                                                                 \n",
            " max_pooling2d_10 (MaxPoolin  (None, 6, 6, 64)         0         \n",
            " g2D)                                                            \n",
            "                                                                 \n",
            " flatten_4 (Flatten)         (None, 2304)              0         \n",
            "                                                                 \n",
            " dense_9 (Dense)             (None, 128)               295040    \n",
            "                                                                 \n",
            " dense_10 (Dense)            (None, 128)               16512     \n",
            "                                                                 \n",
            " dense_11 (Dense)            (None, 64)                8256      \n",
            "                                                                 \n",
            " dense_12 (Dense)            (None, 10)                650       \n",
            "                                                                 \n",
            "=================================================================\n",
            "Total params: 380,798\n",
            "Trainable params: 380,798\n",
            "Non-trainable params: 0\n",
            "_________________________________________________________________\n"
          ]
        }
      ]
    },
    {
      "cell_type": "code",
      "source": [
        "Model5.compile(\n",
        "    loss=tf.keras.losses.CategoricalCrossentropy(from_logits=False),\n",
        "    optimizer=tf.keras.optimizers.Adam(),\n",
        "    metrics=[\"accuracy\"],\n",
        ")"
      ],
      "metadata": {
        "id": "g56p8t4p9bAG"
      },
      "execution_count": 38,
      "outputs": []
    },
    {
      "cell_type": "code",
      "source": [
        "history = Model5.fit_generator(train_gen,\n",
        "                    epochs = 20,\n",
        "                    validation_data = val_gen)"
      ],
      "metadata": {
        "colab": {
          "base_uri": "https://localhost:8080/"
        },
        "id": "QL7hgW0C9bCs",
        "outputId": "ab8b48c3-b369-4100-d356-8348b357ed53"
      },
      "execution_count": 39,
      "outputs": [
        {
          "output_type": "stream",
          "name": "stdout",
          "text": [
            "Epoch 1/20\n"
          ]
        },
        {
          "output_type": "stream",
          "name": "stderr",
          "text": [
            "<ipython-input-39-915a2d3c380b>:1: UserWarning: `Model.fit_generator` is deprecated and will be removed in a future version. Please use `Model.fit`, which supports generators.\n",
            "  history = Model5.fit_generator(train_gen,\n"
          ]
        },
        {
          "output_type": "stream",
          "name": "stdout",
          "text": [
            "263/263 [==============================] - 18s 58ms/step - loss: 0.7949 - accuracy: 0.7353 - val_loss: 0.3490 - val_accuracy: 0.9004\n",
            "Epoch 2/20\n",
            "263/263 [==============================] - 15s 57ms/step - loss: 0.2535 - accuracy: 0.9200 - val_loss: 0.2733 - val_accuracy: 0.9310\n",
            "Epoch 3/20\n",
            "263/263 [==============================] - 15s 57ms/step - loss: 0.1763 - accuracy: 0.9446 - val_loss: 0.1456 - val_accuracy: 0.9636\n",
            "Epoch 4/20\n",
            "263/263 [==============================] - 15s 56ms/step - loss: 0.1467 - accuracy: 0.9546 - val_loss: 0.1302 - val_accuracy: 0.9624\n",
            "Epoch 5/20\n",
            "263/263 [==============================] - 15s 56ms/step - loss: 0.1237 - accuracy: 0.9615 - val_loss: 0.0954 - val_accuracy: 0.9742\n",
            "Epoch 6/20\n",
            "263/263 [==============================] - 15s 57ms/step - loss: 0.1074 - accuracy: 0.9660 - val_loss: 0.0988 - val_accuracy: 0.9733\n",
            "Epoch 7/20\n",
            "263/263 [==============================] - 16s 59ms/step - loss: 0.0977 - accuracy: 0.9690 - val_loss: 0.1041 - val_accuracy: 0.9690\n",
            "Epoch 8/20\n",
            "263/263 [==============================] - 15s 57ms/step - loss: 0.0915 - accuracy: 0.9720 - val_loss: 0.0869 - val_accuracy: 0.9764\n",
            "Epoch 9/20\n",
            "263/263 [==============================] - 18s 67ms/step - loss: 0.0807 - accuracy: 0.9749 - val_loss: 0.1051 - val_accuracy: 0.9720\n",
            "Epoch 10/20\n",
            "263/263 [==============================] - 15s 56ms/step - loss: 0.0798 - accuracy: 0.9757 - val_loss: 0.0694 - val_accuracy: 0.9810\n",
            "Epoch 11/20\n",
            "263/263 [==============================] - 15s 56ms/step - loss: 0.0750 - accuracy: 0.9762 - val_loss: 0.0722 - val_accuracy: 0.9819\n",
            "Epoch 12/20\n",
            "263/263 [==============================] - 15s 56ms/step - loss: 0.0711 - accuracy: 0.9776 - val_loss: 0.0673 - val_accuracy: 0.9820\n",
            "Epoch 13/20\n",
            "263/263 [==============================] - 15s 57ms/step - loss: 0.0720 - accuracy: 0.9778 - val_loss: 0.0842 - val_accuracy: 0.9769\n",
            "Epoch 14/20\n",
            "263/263 [==============================] - 15s 56ms/step - loss: 0.0713 - accuracy: 0.9776 - val_loss: 0.0774 - val_accuracy: 0.9802\n",
            "Epoch 15/20\n",
            "263/263 [==============================] - 15s 56ms/step - loss: 0.0615 - accuracy: 0.9808 - val_loss: 0.0604 - val_accuracy: 0.9854\n",
            "Epoch 16/20\n",
            "263/263 [==============================] - 15s 56ms/step - loss: 0.0575 - accuracy: 0.9821 - val_loss: 0.0584 - val_accuracy: 0.9833\n",
            "Epoch 17/20\n",
            "263/263 [==============================] - 15s 56ms/step - loss: 0.0591 - accuracy: 0.9818 - val_loss: 0.0588 - val_accuracy: 0.9838\n",
            "Epoch 18/20\n",
            "263/263 [==============================] - 15s 56ms/step - loss: 0.0587 - accuracy: 0.9818 - val_loss: 0.0578 - val_accuracy: 0.9838\n",
            "Epoch 19/20\n",
            "263/263 [==============================] - 15s 56ms/step - loss: 0.0592 - accuracy: 0.9817 - val_loss: 0.0481 - val_accuracy: 0.9863\n",
            "Epoch 20/20\n",
            "263/263 [==============================] - 15s 56ms/step - loss: 0.0586 - accuracy: 0.9832 - val_loss: 0.0595 - val_accuracy: 0.9830\n"
          ]
        }
      ]
    },
    {
      "cell_type": "code",
      "source": [
        "mod5_pred = Model5.predict(test_data)"
      ],
      "metadata": {
        "colab": {
          "base_uri": "https://localhost:8080/"
        },
        "id": "M7H2IMKY9bEr",
        "outputId": "5d4a4410-08bf-4708-95d0-372beb0dd9d3"
      },
      "execution_count": 40,
      "outputs": [
        {
          "output_type": "stream",
          "name": "stdout",
          "text": [
            "235/235 [==============================] - 1s 2ms/step\n"
          ]
        }
      ]
    },
    {
      "cell_type": "code",
      "source": [
        "np.argmax(mod5_pred,axis=1)"
      ],
      "metadata": {
        "colab": {
          "base_uri": "https://localhost:8080/"
        },
        "id": "UQwKd8eK9bGo",
        "outputId": "ca85addf-5c64-4a03-d53c-8a5ff91691f4"
      },
      "execution_count": 41,
      "outputs": [
        {
          "output_type": "execute_result",
          "data": {
            "text/plain": [
              "array([9, 7, 7, ..., 9, 2, 9])"
            ]
          },
          "metadata": {},
          "execution_count": 41
        }
      ]
    },
    {
      "cell_type": "markdown",
      "source": [
        "# **Got ~92% Accuracy on Model5**"
      ],
      "metadata": {
        "id": "RwdUK3wgDD1d"
      }
    },
    {
      "cell_type": "markdown",
      "source": [
        "**model save**"
      ],
      "metadata": {
        "id": "2lJLEHkoRoNb"
      }
    },
    {
      "cell_type": "code",
      "source": [
        "'''Label = np.argmax(y_pred, axis=1)\n",
        "Imageid = pd.DataFrame(list(range(1,len(Label)+1)), columns=['ImageId'])\n",
        "subm = pd.DataFrame(Label,columns=['Label']) \n",
        "subm = pd.concat([Imageid,subm],axis=1)\n",
        "subm.to_csv('/content/Drive/MyDrive/data/digit reco kaggle/sub1.csv',index=False)'''"
      ],
      "metadata": {
        "id": "ke7lpZ_-RecP",
        "colab": {
          "base_uri": "https://localhost:8080/",
          "height": 53
        },
        "outputId": "98f54fad-5923-4c5c-9e3c-91c58d96a862"
      },
      "execution_count": 42,
      "outputs": [
        {
          "output_type": "execute_result",
          "data": {
            "text/plain": [
              "\"Label = np.argmax(y_pred, axis=1)\\nImageid = pd.DataFrame(list(range(1,len(Label)+1)), columns=['ImageId'])\\nsubm = pd.DataFrame(Label,columns=['Label']) \\nsubm = pd.concat([Imageid,subm],axis=1)\\nsubm.to_csv('/content/Drive/MyDrive/data/digit reco kaggle/sub1.csv',index=False)\""
            ],
            "application/vnd.google.colaboratory.intrinsic+json": {
              "type": "string"
            }
          },
          "metadata": {},
          "execution_count": 42
        }
      ]
    },
    {
      "cell_type": "code",
      "source": [],
      "metadata": {
        "id": "hoKPiYAhBWb6"
      },
      "execution_count": null,
      "outputs": []
    }
  ]
}